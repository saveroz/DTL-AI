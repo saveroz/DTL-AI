{
 "cells": [
  {
   "cell_type": "raw",
   "metadata": {},
   "source": [
    "1.Data preparation\n",
    "  Dataset didapatkan melalui library keras dengan jumlah 60.000 termasuk dengan data test berjumlah 10.000. \n",
    "  Karena KNN merupakan Lazy Classification maka data training yang digunakan berjumlah 1000 dan test cases berjumlah 100.\n",
    "  Dataset yang didapatkan kemudian di normalisasi\n",
    "        "
   ]
  },
  {
   "cell_type": "code",
   "execution_count": 1,
   "metadata": {},
   "outputs": [
    {
     "name": "stderr",
     "output_type": "stream",
     "text": [
      "Using TensorFlow backend.\n"
     ]
    }
   ],
   "source": [
    "from keras.datasets import mnist #untuk mengambil dataset MNIST Digit Recognition\n",
    "from sklearn.model_selection import train_test_split\n",
    "import matplotlib.pyplot as plt\n",
    "import math \n",
    "\n",
    "(X_train, y_train), (X_test, y_test) = mnist.load_data() #mnist data set\n",
    "num_pixels = X_train.shape[1] * X_train.shape[2]\n",
    "X_train = X_train.reshape(X_train.shape[0], num_pixels).astype('float32') #mengubah matriks menjadi vektor\n",
    "X_test = X_test.reshape(X_test.shape[0], num_pixels).astype('float32')\n",
    "X_train=X_train[:1000]\n",
    "X_test=X_test[:100]\n",
    "X_train = X_train / 255 #normalisasi data\n",
    "X_test = X_test / 255 \n",
    "\n",
    "\n"
   ]
  },
  {
   "cell_type": "raw",
   "metadata": {},
   "source": [
    "2. Membuat Fungsi Pengurangan vektor"
   ]
  },
  {
   "cell_type": "code",
   "execution_count": 2,
   "metadata": {},
   "outputs": [
    {
     "data": {
      "text/plain": [
       "'\\na=[1,2]\\nb=[5,5]\\nc=pengurangan_vector(a,b)\\nprint(c)\\n'"
      ]
     },
     "execution_count": 2,
     "metadata": {},
     "output_type": "execute_result"
    }
   ],
   "source": [
    "def pengurangan_vector(a,b):\n",
    "    d=[]\n",
    "    a=list(map(float,a))\n",
    "    b=list(map(float,b))\n",
    "    for i in range((len(a))):\n",
    "        c=abs(a[i]-b[i])\n",
    "        d.append(c)\n",
    "    return d\n",
    "\"\"\"\n",
    "a=[1,2]\n",
    "b=[5,5]\n",
    "c=pengurangan_vector(a,b)\n",
    "print(c)\n",
    "\"\"\""
   ]
  },
  {
   "cell_type": "raw",
   "metadata": {},
   "source": [
    "3. Membuat Fungsi untuk mencari Euclidean Distance"
   ]
  },
  {
   "cell_type": "code",
   "execution_count": 3,
   "metadata": {},
   "outputs": [],
   "source": [
    "def Eucli_func(vector): #rumus mencari Euclidean Distance\n",
    "    kuadrat=list(map(lambda x: x**2, vector))\n",
    "    result=math.sqrt(sum(kuadrat))\n",
    "    return result\n"
   ]
  },
  {
   "cell_type": "raw",
   "metadata": {},
   "source": [
    "4. Fungsi similarity digunakan untuk mendapatkan list yang berisi Euclidean Distance beserta labelnya dari data training"
   ]
  },
  {
   "cell_type": "code",
   "execution_count": 4,
   "metadata": {},
   "outputs": [],
   "source": [
    "def similarity(training_data,target): # fungsi untuk menghasilkan list dari Euclidean Distance di training data\n",
    "    list_val=[]\n",
    "    for i in range(len(training_data)):\n",
    "        #training=i.split(\",\")\n",
    "        a=pengurangan_vector(target,training_data[i])\n",
    "        result=Eucli_func(a)\n",
    "        list_val.append([result,y_train[i]])\n",
    "    return list_val\n"
   ]
  },
  {
   "cell_type": "raw",
   "metadata": {},
   "source": [
    "5. Fungsi KNN untuk mencari label dari data yang dicari"
   ]
  },
  {
   "cell_type": "code",
   "execution_count": 5,
   "metadata": {},
   "outputs": [],
   "source": [
    "def knn_scratch(lists,neighbors=3):\n",
    "    newlist=sorted(lists)\n",
    "    p=newlist[:neighbors]\n",
    "    dicts={}\n",
    "    for a in p:\n",
    "        if a[1] in dicts:\n",
    "            dicts[a[1]]+=1\n",
    "        else:\n",
    "            dicts[a[1]]=1\n",
    "    output=max(dicts, key=dicts.get)\n",
    "    return output\n",
    "#knn_scratch(k)"
   ]
  },
  {
   "cell_type": "raw",
   "metadata": {},
   "source": [
    "6. Menghitung akurasi dari model KNN \n",
    "   Data training berjumlah 1000 dan test cases berjumlah 100"
   ]
  },
  {
   "cell_type": "code",
   "execution_count": 6,
   "metadata": {},
   "outputs": [
    {
     "name": "stdout",
     "output_type": "stream",
     "text": [
      "82.0\n",
      "Wall time: 1min 41s\n"
     ]
    }
   ],
   "source": [
    "%%time\n",
    "def accuracy():\n",
    "    akurasi=[]\n",
    "    for i in range(len(X_test)):\n",
    "        list_val=similarity(X_train,X_test[i])\n",
    "        akurasi.append(int(knn_scratch(list_val)==y_test[i]))\n",
    "    nilai_akurasi=sum(akurasi)/len(akurasi)*100\n",
    "    return nilai_akurasi\n",
    "nilai=accuracy()\n",
    "print(nilai)"
   ]
  },
  {
   "cell_type": "raw",
   "metadata": {},
   "source": [
    "Kesimpulan:\n",
    "Dengan hanya 100 test cases pencarian nilai akurasi memakan waktu 1 menit 41 detik dengan tingkat akurasi dari sistem \n",
    "mencapai 82%."
   ]
  },
  {
   "cell_type": "code",
   "execution_count": 27,
   "metadata": {},
   "outputs": [
    {
     "name": "stdout",
     "output_type": "stream",
     "text": [
      "<function knn_scratch at 0x0000021216A80950>\n"
     ]
    },
    {
     "data": {
      "image/png": "[encoded data removed]",
      "text/plain": [
       "<Figure size 432x288 with 1 Axes>"
      ]
     },
     "metadata": {
      "needs_background": "light"
     },
     "output_type": "display_data"
    }
   ],
   "source": [
    "#prediksi digit menggunakan KNN\n",
    "list_val=similarity(X_train,X_test[20])\n",
    "knn_scratch(list_val)\n",
    "print(knn_scratch(list_val))\n",
    "\n",
    "#print gambar digit\n",
    "X_test1=X_test*255\n",
    "X_test1=X_test1.reshape(10000,28,28)\n",
    "plt.imshow(X_test1[20], cmap=plt.get_cmap('gray'))\n",
    "plt.show()"
   ]
  },
  {
   "cell_type": "code",
   "execution_count": 28,
   "metadata": {},
   "outputs": [
    {
     "name": "stdout",
     "output_type": "stream",
     "text": [
      "9\n"
     ]
    }
   ],
   "source": [
    "print(knn_scratch(list_val))"
   ]
  },
  {
   "cell_type": "code",
   "execution_count": null,
   "metadata": {},
   "outputs": [],
   "source": []
  }
 ],
 "metadata": {
  "kernelspec": {
   "display_name": "Python 3",
   "language": "python",
   "name": "python3"
  },
  "language_info": {
   "codemirror_mode": {
    "name": "ipython",
    "version": 3
   },
   "file_extension": ".py",
   "mimetype": "text/x-python",
   "name": "python",
   "nbconvert_exporter": "python",
   "pygments_lexer": "ipython3",
   "version": "3.6.6"
  }
 },
 "nbformat": 4,
 "nbformat_minor": 2
}
