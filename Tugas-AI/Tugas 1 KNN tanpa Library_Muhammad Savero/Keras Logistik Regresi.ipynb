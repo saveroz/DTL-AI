{
 "cells": [
  {
   "cell_type": "markdown",
   "metadata": {},
   "source": [
    "## Keras Logistic Regression (data mnist)"
   ]
  },
  {
   "cell_type": "code",
   "execution_count": 67,
   "metadata": {},
   "outputs": [],
   "source": [
    "from keras.datasets import mnist\n",
    "from keras.models import Sequential\n",
    "from keras.layers import Dense\n",
    "from keras.utils import np_utils\n",
    "import numpy\n",
    "import pandas as pd"
   ]
  },
  {
   "cell_type": "markdown",
   "metadata": {},
   "source": [
    "### Display Data"
   ]
  },
  {
   "cell_type": "code",
   "execution_count": 68,
   "metadata": {},
   "outputs": [
    {
     "data": {
      "image/png": "[encoded data removed]",
      "text/plain": [
       "<Figure size 432x288 with 4 Axes>"
      ]
     },
     "metadata": {
      "needs_background": "light"
     },
     "output_type": "display_data"
    }
   ],
   "source": [
    "%matplotlib inline\n",
    "import matplotlib.pyplot as plt\n",
    "# load (downloaded if needed) the MNIST dataset\n",
    "(X_train, y_train), (X_test, y_test) = mnist.load_data()\n",
    "# plot 4 images as gray scale\n",
    "plt.subplot(221)\n",
    "plt.imshow(X_test[0], cmap=plt.get_cmap('gray'))\n",
    "plt.subplot(222)\n",
    "plt.imshow(X_test[1], cmap=plt.get_cmap('gray'))\n",
    "plt.subplot(223)\n",
    "plt.imshow(X_test[2], cmap=plt.get_cmap('gray'))\n",
    "plt.subplot(224)\n",
    "plt.imshow(X_test[3], cmap=plt.get_cmap('gray'))\n",
    "# show the plot\n",
    "plt.show()\n"
   ]
  },
  {
   "cell_type": "code",
   "execution_count": 69,
   "metadata": {},
   "outputs": [],
   "source": [
    "seed = 7\n",
    "numpy.random.seed(seed)"
   ]
  },
  {
   "cell_type": "markdown",
   "metadata": {},
   "source": [
    "### flatten array 28*28 images to a 784 vector for each image"
   ]
  },
  {
   "cell_type": "code",
   "execution_count": 70,
   "metadata": {},
   "outputs": [],
   "source": [
    "\n",
    "num_pixels = X_train.shape[1] * X_train.shape[2]\n",
    "X_train = X_train.reshape(X_train.shape[0], num_pixels).astype('float32')\n",
    "X_train=X_train[:1000] #buat data training menjadi 1000 data\n",
    "X_test = X_test.reshape(X_test.shape[0], num_pixels).astype('float32')\n",
    "X_test=X_test[:100] #buat data test menjadi 100 data"
   ]
  },
  {
   "cell_type": "markdown",
   "metadata": {},
   "source": [
    "### Normalize data from 0-255 to 0-1"
   ]
  },
  {
   "cell_type": "code",
   "execution_count": 71,
   "metadata": {},
   "outputs": [],
   "source": [
    "\n",
    "X_train = X_train / 255\n",
    "X_test = X_test / 255"
   ]
  },
  {
   "cell_type": "code",
   "execution_count": 72,
   "metadata": {},
   "outputs": [],
   "source": [
    "y_train = np_utils.to_categorical(y_train)\n",
    "y_train=y_train[:1000]\n",
    "y_test = np_utils.to_categorical(y_test)\n",
    "y_test=y_test[:100]\n",
    "num_classes = y_test.shape[1]"
   ]
  },
  {
   "cell_type": "markdown",
   "metadata": {},
   "source": [
    "### Build Model"
   ]
  },
  {
   "cell_type": "code",
   "execution_count": 73,
   "metadata": {},
   "outputs": [],
   "source": [
    "def baseline_model(input_dim, output_dim):\n",
    "    model = Sequential()\n",
    "    model.add(Dense(output_dim, input_dim=input_dim, activation='softmax'))\n",
    "    model.compile(loss='mse', optimizer='sgd', metrics=['accuracy'])\n",
    "    return model"
   ]
  },
  {
   "cell_type": "code",
   "execution_count": 74,
   "metadata": {},
   "outputs": [],
   "source": [
    "model = baseline_model(784,10)"
   ]
  },
  {
   "cell_type": "markdown",
   "metadata": {},
   "source": [
    "### Train the model"
   ]
  },
  {
   "cell_type": "code",
   "execution_count": 77,
   "metadata": {},
   "outputs": [
    {
     "name": "stdout",
     "output_type": "stream",
     "text": [
      "Train on 1000 samples, validate on 100 samples\n",
      "Epoch 1/50\n",
      " - 3s - loss: 0.0908 - acc: 0.1150 - val_loss: 0.0924 - val_acc: 0.0800\n",
      "Epoch 2/50\n",
      " - 1s - loss: 0.0897 - acc: 0.1570 - val_loss: 0.0916 - val_acc: 0.0800\n",
      "Epoch 3/50\n",
      " - 1s - loss: 0.0885 - acc: 0.1900 - val_loss: 0.0907 - val_acc: 0.0900\n",
      "Epoch 4/50\n",
      " - 1s - loss: 0.0874 - acc: 0.2310 - val_loss: 0.0898 - val_acc: 0.1200\n",
      "Epoch 5/50\n",
      " - 1s - loss: 0.0861 - acc: 0.2660 - val_loss: 0.0889 - val_acc: 0.1500\n",
      "Epoch 6/50\n",
      " - 1s - loss: 0.0848 - acc: 0.2880 - val_loss: 0.0878 - val_acc: 0.1500\n",
      "Epoch 7/50\n",
      " - 1s - loss: 0.0834 - acc: 0.3360 - val_loss: 0.0867 - val_acc: 0.2000\n",
      "Epoch 8/50\n",
      " - 1s - loss: 0.0820 - acc: 0.3720 - val_loss: 0.0856 - val_acc: 0.2300\n",
      "Epoch 9/50\n",
      " - 1s - loss: 0.0804 - acc: 0.4070 - val_loss: 0.0843 - val_acc: 0.2700\n",
      "Epoch 10/50\n",
      " - 1s - loss: 0.0788 - acc: 0.4460 - val_loss: 0.0830 - val_acc: 0.3100\n",
      "Epoch 11/50\n",
      " - 1s - loss: 0.0771 - acc: 0.4730 - val_loss: 0.0816 - val_acc: 0.3500\n",
      "Epoch 12/50\n",
      " - 1s - loss: 0.0754 - acc: 0.5010 - val_loss: 0.0802 - val_acc: 0.3900\n",
      "Epoch 13/50\n",
      " - 1s - loss: 0.0736 - acc: 0.5140 - val_loss: 0.0787 - val_acc: 0.4200\n",
      "Epoch 14/50\n",
      " - 1s - loss: 0.0719 - acc: 0.5450 - val_loss: 0.0772 - val_acc: 0.4500\n",
      "Epoch 15/50\n",
      " - 1s - loss: 0.0702 - acc: 0.5620 - val_loss: 0.0758 - val_acc: 0.5000\n",
      "Epoch 16/50\n",
      " - 1s - loss: 0.0686 - acc: 0.5750 - val_loss: 0.0743 - val_acc: 0.5100\n",
      "Epoch 17/50\n",
      " - 1s - loss: 0.0670 - acc: 0.5930 - val_loss: 0.0729 - val_acc: 0.5200\n",
      "Epoch 18/50\n",
      " - 1s - loss: 0.0655 - acc: 0.6110 - val_loss: 0.0715 - val_acc: 0.5400\n",
      "Epoch 19/50\n",
      " - 1s - loss: 0.0640 - acc: 0.6230 - val_loss: 0.0702 - val_acc: 0.5700\n",
      "Epoch 20/50\n",
      " - 1s - loss: 0.0626 - acc: 0.6290 - val_loss: 0.0689 - val_acc: 0.6000\n",
      "Epoch 21/50\n",
      " - 1s - loss: 0.0612 - acc: 0.6420 - val_loss: 0.0675 - val_acc: 0.6200\n",
      "Epoch 22/50\n",
      " - 1s - loss: 0.0599 - acc: 0.6540 - val_loss: 0.0663 - val_acc: 0.6200\n",
      "Epoch 23/50\n",
      " - 1s - loss: 0.0586 - acc: 0.6700 - val_loss: 0.0650 - val_acc: 0.6500\n",
      "Epoch 24/50\n",
      " - 1s - loss: 0.0573 - acc: 0.6780 - val_loss: 0.0638 - val_acc: 0.6500\n",
      "Epoch 25/50\n",
      " - 1s - loss: 0.0561 - acc: 0.6870 - val_loss: 0.0627 - val_acc: 0.6500\n",
      "Epoch 26/50\n",
      " - 1s - loss: 0.0550 - acc: 0.6980 - val_loss: 0.0616 - val_acc: 0.6400\n",
      "Epoch 27/50\n",
      " - 1s - loss: 0.0539 - acc: 0.7040 - val_loss: 0.0606 - val_acc: 0.6500\n",
      "Epoch 28/50\n",
      " - 1s - loss: 0.0528 - acc: 0.7140 - val_loss: 0.0595 - val_acc: 0.6500\n",
      "Epoch 29/50\n",
      " - 1s - loss: 0.0518 - acc: 0.7220 - val_loss: 0.0586 - val_acc: 0.6500\n",
      "Epoch 30/50\n",
      " - 1s - loss: 0.0508 - acc: 0.7240 - val_loss: 0.0577 - val_acc: 0.6600\n",
      "Epoch 31/50\n",
      " - 1s - loss: 0.0499 - acc: 0.7280 - val_loss: 0.0568 - val_acc: 0.6700\n",
      "Epoch 32/50\n",
      " - 1s - loss: 0.0490 - acc: 0.7370 - val_loss: 0.0560 - val_acc: 0.6700\n",
      "Epoch 33/50\n",
      " - 1s - loss: 0.0482 - acc: 0.7450 - val_loss: 0.0552 - val_acc: 0.6800\n",
      "Epoch 34/50\n",
      " - 1s - loss: 0.0473 - acc: 0.7490 - val_loss: 0.0544 - val_acc: 0.6800\n",
      "Epoch 35/50\n",
      " - 1s - loss: 0.0465 - acc: 0.7500 - val_loss: 0.0537 - val_acc: 0.6800\n",
      "Epoch 36/50\n",
      " - 1s - loss: 0.0458 - acc: 0.7560 - val_loss: 0.0530 - val_acc: 0.6900\n",
      "Epoch 37/50\n",
      " - 1s - loss: 0.0450 - acc: 0.7600 - val_loss: 0.0523 - val_acc: 0.6900\n",
      "Epoch 38/50\n",
      " - 1s - loss: 0.0443 - acc: 0.7670 - val_loss: 0.0517 - val_acc: 0.7000\n",
      "Epoch 39/50\n",
      " - 1s - loss: 0.0437 - acc: 0.7690 - val_loss: 0.0511 - val_acc: 0.6900\n",
      "Epoch 40/50\n",
      " - 1s - loss: 0.0430 - acc: 0.7710 - val_loss: 0.0505 - val_acc: 0.6900\n",
      "Epoch 41/50\n",
      " - 1s - loss: 0.0424 - acc: 0.7730 - val_loss: 0.0499 - val_acc: 0.6900\n",
      "Epoch 42/50\n",
      " - 1s - loss: 0.0418 - acc: 0.7740 - val_loss: 0.0494 - val_acc: 0.6900\n",
      "Epoch 43/50\n",
      " - 1s - loss: 0.0412 - acc: 0.7780 - val_loss: 0.0489 - val_acc: 0.7000\n",
      "Epoch 44/50\n",
      " - 1s - loss: 0.0406 - acc: 0.7840 - val_loss: 0.0484 - val_acc: 0.7100\n",
      "Epoch 45/50\n",
      " - 1s - loss: 0.0401 - acc: 0.7890 - val_loss: 0.0479 - val_acc: 0.7000\n",
      "Epoch 46/50\n",
      " - 1s - loss: 0.0396 - acc: 0.7910 - val_loss: 0.0474 - val_acc: 0.7100\n",
      "Epoch 47/50\n",
      " - 1s - loss: 0.0391 - acc: 0.7930 - val_loss: 0.0469 - val_acc: 0.7200\n",
      "Epoch 48/50\n",
      " - 1s - loss: 0.0386 - acc: 0.7980 - val_loss: 0.0465 - val_acc: 0.7200\n",
      "Epoch 49/50\n",
      " - 1s - loss: 0.0381 - acc: 0.8010 - val_loss: 0.0461 - val_acc: 0.7200\n",
      "Epoch 50/50\n",
      " - 1s - loss: 0.0377 - acc: 0.8050 - val_loss: 0.0457 - val_acc: 0.7200\n",
      "Wall time: 41.5 s\n"
     ]
    },
    {
     "data": {
      "text/plain": [
       "<keras.callbacks.History at 0x202ce1749e8>"
      ]
     },
     "execution_count": 77,
     "metadata": {},
     "output_type": "execute_result"
    }
   ],
   "source": [
    "%%time\n",
    "# Fit the model\n",
    "model.fit(X_train, y_train, validation_data=(X_test, y_test), epochs=50, batch_size=5, verbose=2)"
   ]
  },
  {
   "cell_type": "markdown",
   "metadata": {},
   "source": [
    "### Model peformances"
   ]
  },
  {
   "cell_type": "code",
   "execution_count": 78,
   "metadata": {},
   "outputs": [
    {
     "name": "stdout",
     "output_type": "stream",
     "text": [
      "[0.04566125512123108, 0.72]\n"
     ]
    }
   ],
   "source": [
    "scores=model.evaluate(X_test, y_test, verbose=0)\n",
    "print(scores)"
   ]
  },
  {
   "cell_type": "code",
   "execution_count": 79,
   "metadata": {},
   "outputs": [
    {
     "name": "stdout",
     "output_type": "stream",
     "text": [
      "Baseline Error: 28.00%\n"
     ]
    }
   ],
   "source": [
    "print(\"Baseline Error: %.2f%%\" % (100-scores[1]*100))"
   ]
  },
  {
   "cell_type": "code",
   "execution_count": 80,
   "metadata": {},
   "outputs": [
    {
     "name": "stdout",
     "output_type": "stream",
     "text": [
      "[7]\n"
     ]
    }
   ],
   "source": [
    "ynew=model.predict_classes(X_test[:1])\n",
    "print(ynew)"
   ]
  },
  {
   "cell_type": "code",
   "execution_count": 13,
   "metadata": {},
   "outputs": [
    {
     "name": "stdout",
     "output_type": "stream",
     "text": [
      "X_test[0], Prediksi=7\n"
     ]
    },
    {
     "data": {
      "image/png": "[encoded data removed]",
      "text/plain": [
       "<Figure size 432x288 with 1 Axes>"
      ]
     },
     "metadata": {
      "needs_background": "light"
     },
     "output_type": "display_data"
    }
   ],
   "source": [
    "X_test1=X_test*255\n",
    "X_test1=X_test1.reshape(10000,28,28)\n",
    "for i in range(1):\n",
    "    print(\"X_test%s, Prediksi=%s\" % ([i], ynew[i]))\n",
    "    plt.imshow(X_test1[i], cmap=plt.get_cmap('gray'))\n",
    "    plt.show()"
   ]
  }
 ],
 "metadata": {
  "kernelspec": {
   "display_name": "Python 3",
   "language": "python",
   "name": "python3"
  },
  "language_info": {
   "codemirror_mode": {
    "name": "ipython",
    "version": 3
   },
   "file_extension": ".py",
   "mimetype": "text/x-python",
   "name": "python",
   "nbconvert_exporter": "python",
   "pygments_lexer": "ipython3",
   "version": "3.6.6"
  }
 },
 "nbformat": 4,
 "nbformat_minor": 2
}
