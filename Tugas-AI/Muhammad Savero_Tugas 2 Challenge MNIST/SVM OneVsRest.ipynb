{
 "cells": [
  {
   "cell_type": "code",
   "execution_count": 63,
   "metadata": {},
   "outputs": [],
   "source": [
    "import numpy as np\n",
    "from sklearn.svm import SVC\n",
    "from sklearn import datasets,metrics\n",
    "from sklearn.datasets import fetch_mldata\n",
    "from sklearn.model_selection import train_test_split\n",
    "import matplotlib.pyplot as plt\n",
    "from sklearn.multiclass import OneVsRestClassifier"
   ]
  },
  {
   "cell_type": "markdown",
   "metadata": {},
   "source": [
    "## Load dan Visualisassi dataset MNIST\n",
    "Download dataset MNIST dari fungsi datasets\n",
    "Sebelum klasifikasi dimulai, data perlu diratakan pada array dua dimensi untuk mengubah data menjadi vektor fitur."
   ]
  },
  {
   "cell_type": "code",
   "execution_count": 64,
   "metadata": {},
   "outputs": [],
   "source": [
    "digits = datasets.load_digits()\n",
    "n_samples = len(digits.images)\n",
    "data = digits.images.reshape((n_samples, -1))/255.0\n",
    "train_img=data[:int(n_samples // 5)]\n",
    "train_lbl=digits.target[:int(n_samples // 5)]\n",
    "test_img=data[int(n_samples // 2):]\n",
    "test_lbl=digits.target[int(n_samples // 2):]"
   ]
  },
  {
   "cell_type": "code",
   "execution_count": 65,
   "metadata": {},
   "outputs": [
    {
     "name": "stdout",
     "output_type": "stream",
     "text": [
      "(359, 64)\n",
      "(899, 64)\n",
      "(359,)\n",
      "(899,)\n"
     ]
    }
   ],
   "source": [
    "print (train_img.shape)\n",
    "print (test_img.shape)\n",
    "print (train_lbl.shape)\n",
    "print (test_lbl.shape)"
   ]
  },
  {
   "cell_type": "code",
   "execution_count": 66,
   "metadata": {},
   "outputs": [
    {
     "data": {
      "image/png": "[encoded data removed]",
      "text/plain": [
       "<Figure size 720x288 with 5 Axes>"
      ]
     },
     "metadata": {
      "needs_background": "light"
     },
     "output_type": "display_data"
    }
   ],
   "source": [
    "plt.figure(figsize=(10,4))\n",
    "for index, (image, label) in enumerate(zip(train_img[0:5], train_lbl[0:5])):\n",
    "    plt.subplot(1, 5, index + 1)\n",
    "    plt.imshow(np.reshape(image, (8,8)), cmap=plt.cm.gray)\n",
    "    plt.title('Training: %i\\n' % label, fontsize = 10)"
   ]
  },
  {
   "cell_type": "markdown",
   "metadata": {},
   "source": [
    "### Klasifikasi menggunakan SVM"
   ]
  },
  {
   "cell_type": "code",
   "execution_count": 67,
   "metadata": {},
   "outputs": [],
   "source": [
    "clf = OneVsRestClassifier(SVC(probability=False,  # cache_size=200,\n",
    "          kernel=\"rbf\", C=2, gamma=.01),n_jobs=-1)"
   ]
  },
  {
   "cell_type": "code",
   "execution_count": 68,
   "metadata": {},
   "outputs": [
    {
     "data": {
      "text/plain": [
       "OneVsRestClassifier(estimator=SVC(C=2, cache_size=200, class_weight=None, coef0=0.0,\n",
       "  decision_function_shape='ovr', degree=3, gamma=0.01, kernel='rbf',\n",
       "  max_iter=-1, probability=False, random_state=None, shrinking=True,\n",
       "  tol=0.001, verbose=False),\n",
       "          n_jobs=-1)"
      ]
     },
     "execution_count": 68,
     "metadata": {},
     "output_type": "execute_result"
    }
   ],
   "source": [
    "clf.fit(train_img, train_lbl)"
   ]
  },
  {
   "cell_type": "markdown",
   "metadata": {},
   "source": [
    "## Performa Sistem\n",
    "Performa sistem divisualisasikan menggunakan confusion matrix. \n",
    "Ada tiga score yang diperlihatkan, yaitu precision, recall, dan f1-score.\n",
    "Nilai precision menunjukkan akurasi model dalam mengklasifikasi data yang ada di kelas diuji, sedangkan nilai recall menunjukkan akurasi mode dalam mengklasifikasi data yang bukan dari kelas yang diuji.\n",
    "Nilai f1-score menunjukkan akurasi model secara keseluruhan."
   ]
  },
  {
   "cell_type": "code",
   "execution_count": 69,
   "metadata": {},
   "outputs": [
    {
     "name": "stdout",
     "output_type": "stream",
     "text": [
      "Classification report for classifier OneVsRestClassifier(estimator=SVC(C=2, cache_size=200, class_weight=None, coef0=0.0,\n",
      "  decision_function_shape='ovr', degree=3, gamma=0.01, kernel='rbf',\n",
      "  max_iter=-1, probability=False, random_state=None, shrinking=True,\n",
      "  tol=0.001, verbose=False),\n",
      "          n_jobs=-1):\n",
      "             precision    recall  f1-score   support\n",
      "\n",
      "          0       0.73      1.00      0.85        88\n",
      "          1       0.75      0.36      0.49        91\n",
      "          2       0.88      0.78      0.83        86\n",
      "          3       0.78      0.93      0.85        91\n",
      "          4       0.79      0.89      0.84        92\n",
      "          5       0.80      0.88      0.84        91\n",
      "          6       0.83      0.99      0.90        91\n",
      "          7       0.91      0.99      0.95        89\n",
      "          8       0.85      0.65      0.74        88\n",
      "          9       0.78      0.63      0.70        92\n",
      "\n",
      "avg / total       0.81      0.81      0.80       899\n",
      "\n",
      "\n",
      "Confusion matrix:\n",
      "[[88  0  0  0  0  0  0  0  0  0]\n",
      " [ 1 33  7  3 20  2 11  4 10  0]\n",
      " [ 2  0 67 14  0  0  2  0  0  1]\n",
      " [ 1  0  0 85  0  3  0  2  0  0]\n",
      " [ 6  1  0  0 82  1  0  0  0  2]\n",
      " [ 0  0  0  0  2 80  3  0  0  6]\n",
      " [ 0  1  0  0  0  0 90  0  0  0]\n",
      " [ 0  0  1  0  0  0  0 88  0  0]\n",
      " [ 2  5  1  2  0  9  2  3 57  7]\n",
      " [20  4  0  5  0  5  0  0  0 58]]\n",
      "Accuracy: 0.8098\n"
     ]
    }
   ],
   "source": [
    "predictions = clf.predict(test_img)\n",
    "print(\"Classification report for classifier %s:\\n%s\\n\"\n",
    "      % (clf, metrics.classification_report(test_lbl, predictions)))\n",
    "print(\"Confusion matrix:\\n%s\" %metrics.confusion_matrix(test_lbl,predictions))\n",
    "print(\"Accuracy: %0.4f\" % metrics.accuracy_score(test_lbl,predictions))"
   ]
  },
  {
   "cell_type": "markdown",
   "metadata": {},
   "source": [
    "#### Menampilkan hasil prediksi"
   ]
  },
  {
   "cell_type": "code",
   "execution_count": 8,
   "metadata": {},
   "outputs": [
    {
     "data": {
      "image/png": "[encoded data removed]",
      "text/plain": [
       "<Figure size 720x288 with 5 Axes>"
      ]
     },
     "metadata": {
      "needs_background": "light"
     },
     "output_type": "display_data"
    }
   ],
   "source": [
    "plt.figure(figsize=(10,4))\n",
    "for index, (image, label) in enumerate(zip(test_img[0:5], predictions[0:5])):\n",
    "    plt.subplot(1, 5, index + 1)\n",
    "    plt.imshow(np.reshape(image, (8,8)), cmap=plt.cm.gray)\n",
    "    plt.title('Prediction: %i\\n' % label, fontsize = 10)"
   ]
  },
  {
   "cell_type": "markdown",
   "metadata": {},
   "source": [
    "#### Visualisasi kesalahan dalam prediksi"
   ]
  },
  {
   "cell_type": "code",
   "execution_count": 9,
   "metadata": {},
   "outputs": [
    {
     "data": {
      "image/png": "[encoded data removed]",
      "text/plain": [
       "<Figure size 720x288 with 5 Axes>"
      ]
     },
     "metadata": {
      "needs_background": "light"
     },
     "output_type": "display_data"
    }
   ],
   "source": [
    "index = 0\n",
    "misclassifiedIndexes = []\n",
    "for label, predict in zip(test_lbl, predictions):\n",
    "    if label != predict: \n",
    "        misclassifiedIndexes.append(index)\n",
    "    index +=1\n",
    "\n",
    "\n",
    "plt.figure(figsize=(10,4))\n",
    "for plotIndex, badIndex in enumerate(misclassifiedIndexes[0:5]):\n",
    "    plt.subplot(1, 5, plotIndex + 1)\n",
    "    plt.imshow(np.reshape(test_img[badIndex], (8,8)), cmap=plt.cm.gray)\n",
    "    plt.title('Predicted: {}, Actual: {}'.format(predictions[badIndex], test_lbl[badIndex]), fontsize = 9)"
   ]
  },
  {
   "cell_type": "code",
   "execution_count": null,
   "metadata": {},
   "outputs": [],
   "source": []
  }
 ],
 "metadata": {
  "kernelspec": {
   "display_name": "Python 3",
   "language": "python",
   "name": "python3"
  },
  "language_info": {
   "codemirror_mode": {
    "name": "ipython",
    "version": 3
   },
   "file_extension": ".py",
   "mimetype": "text/x-python",
   "name": "python",
   "nbconvert_exporter": "python",
   "pygments_lexer": "ipython3",
   "version": "3.6.6"
  }
 },
 "nbformat": 4,
 "nbformat_minor": 2
}
