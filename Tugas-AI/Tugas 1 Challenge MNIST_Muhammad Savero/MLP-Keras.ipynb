{
 "cells": [
  {
   "cell_type": "markdown",
   "metadata": {},
   "source": [
    "# MNIST Digits Recognition Menggunakan MLP (Multi Layer Perceptron) dengan Keras Library"
   ]
  },
  {
   "cell_type": "markdown",
   "metadata": {},
   "source": [
    "### Data training yang digunakan berjumlah 60.000 dan test case berjumlah 10.000"
   ]
  },
  {
   "cell_type": "code",
   "execution_count": 1,
   "metadata": {},
   "outputs": [
    {
     "name": "stderr",
     "output_type": "stream",
     "text": [
      "Using TensorFlow backend.\n"
     ]
    }
   ],
   "source": [
    "from sklearn.preprocessing import StandardScaler\n",
    "from keras.datasets import mnist\n",
    "import pandas as pd\n",
    "from sklearn.model_selection import train_test_split\n",
    "from keras.utils import np_utils\n",
    "from keras.models import Sequential\n",
    "from keras.layers import Dense\n",
    "import matplotlib.pyplot as plt\n",
    "\n",
    "(X_train, y_train), (X_test, y_test) = mnist.load_data()\n",
    "num_pixels = X_train.shape[1] * X_train.shape[2]\n",
    "X_train = X_train.reshape(X_train.shape[0], num_pixels).astype('float32')\n",
    "X_test = X_test.reshape(X_test.shape[0], num_pixels).astype('float32')\n",
    "X_train = X_train / 255\n",
    "X_test = X_test / 255\n",
    "\n",
    "\n",
    "\n"
   ]
  },
  {
   "cell_type": "code",
   "execution_count": 2,
   "metadata": {},
   "outputs": [],
   "source": [
    "y_train = np_utils.to_categorical(y_train)\n",
    "y_test = np_utils.to_categorical(y_test)\n",
    "num_classes = y_test.shape[1]"
   ]
  },
  {
   "cell_type": "code",
   "execution_count": 3,
   "metadata": {},
   "outputs": [],
   "source": [
    "def model1_HiddenLayer(input_dim, output_dim, hiddenLayerNode): #untuk NN yang hanya memiliki 1 hidden layer\n",
    "    model = Sequential()\n",
    "    model.add(Dense(hiddenLayerNode, input_dim=input_dim, activation='relu'))\n",
    "    model.add(Dense(output_dim, input_dim=hiddenLayerNode, activation='softmax'))\n",
    "    model.compile(loss='categorical_crossentropy', optimizer='adam', metrics=['accuracy'])\n",
    "    return model\n",
    "def model3_HiddenLayer(input_dim, output_dim): #untuk NN yang memiliki 3 hidden layer\n",
    "    model = Sequential()\n",
    "    model.add(Dense(128, input_dim=input_dim, activation='relu'))\n",
    "    model.add(Dense(256, input_dim=128, activation='relu'))\n",
    "    model.add(Dense(512, input_dim=256, activation='relu'))\n",
    "    model.add(Dense(10, input_dim=512, activation='softmax'))\n",
    "    model.compile(loss='categorical_crossentropy', optimizer='adam', metrics=['accuracy'])\n",
    "    return model\n",
    "\n",
    "model = model1_HiddenLayer(784,10,256) # 1 Hidden layer 256\n",
    "model2=model1_HiddenLayer(784,10,512) # 1 Hidden Layer 512\n",
    "model3=model3_HiddenLayer(784, 10) # 3 Hidden Layer 128,256,512\n"
   ]
  },
  {
   "cell_type": "markdown",
   "metadata": {},
   "source": [
    "## 1. Training Neural Network dengan 1 hidden layer berjumlah 256\n"
   ]
  },
  {
   "cell_type": "code",
   "execution_count": 4,
   "metadata": {},
   "outputs": [
    {
     "name": "stdout",
     "output_type": "stream",
     "text": [
      "Train on 60000 samples, validate on 10000 samples\n",
      "Epoch 1/25\n",
      " - 8s - loss: 0.3519 - acc: 0.9046 - val_loss: 0.1814 - val_acc: 0.9478\n",
      "Epoch 2/25\n",
      " - 3s - loss: 0.1527 - acc: 0.9564 - val_loss: 0.1321 - val_acc: 0.9607\n",
      "Epoch 3/25\n",
      " - 3s - loss: 0.1069 - acc: 0.9691 - val_loss: 0.1031 - val_acc: 0.9695\n",
      "Epoch 4/25\n",
      " - 3s - loss: 0.0801 - acc: 0.9773 - val_loss: 0.0872 - val_acc: 0.9740\n",
      "Epoch 5/25\n",
      " - 3s - loss: 0.0633 - acc: 0.9820 - val_loss: 0.0846 - val_acc: 0.9734\n",
      "Epoch 6/25\n",
      " - 3s - loss: 0.0508 - acc: 0.9857 - val_loss: 0.0722 - val_acc: 0.9778\n",
      "Epoch 7/25\n",
      " - 3s - loss: 0.0422 - acc: 0.9882 - val_loss: 0.0733 - val_acc: 0.9770\n",
      "Epoch 8/25\n",
      " - 3s - loss: 0.0343 - acc: 0.9908 - val_loss: 0.0707 - val_acc: 0.9775\n",
      "Epoch 9/25\n",
      " - 3s - loss: 0.0283 - acc: 0.9925 - val_loss: 0.0702 - val_acc: 0.9795\n",
      "Epoch 10/25\n",
      " - 3s - loss: 0.0235 - acc: 0.9940 - val_loss: 0.0681 - val_acc: 0.9781\n",
      "Epoch 11/25\n",
      " - 3s - loss: 0.0192 - acc: 0.9957 - val_loss: 0.0654 - val_acc: 0.9800\n",
      "Epoch 12/25\n",
      " - 3s - loss: 0.0154 - acc: 0.9969 - val_loss: 0.0653 - val_acc: 0.9804\n",
      "Epoch 13/25\n",
      " - 3s - loss: 0.0133 - acc: 0.9974 - val_loss: 0.0645 - val_acc: 0.9812\n",
      "Epoch 14/25\n",
      " - 3s - loss: 0.0106 - acc: 0.9982 - val_loss: 0.0649 - val_acc: 0.9811\n",
      "Epoch 15/25\n",
      " - 3s - loss: 0.0089 - acc: 0.9985 - val_loss: 0.0667 - val_acc: 0.9810\n",
      "Epoch 16/25\n",
      " - 3s - loss: 0.0075 - acc: 0.9989 - val_loss: 0.0664 - val_acc: 0.9814\n",
      "Epoch 17/25\n",
      " - 3s - loss: 0.0064 - acc: 0.9991 - val_loss: 0.0718 - val_acc: 0.9796\n",
      "Epoch 18/25\n",
      " - 3s - loss: 0.0056 - acc: 0.9994 - val_loss: 0.0687 - val_acc: 0.9816\n",
      "Epoch 19/25\n",
      " - 3s - loss: 0.0043 - acc: 0.9995 - val_loss: 0.0742 - val_acc: 0.9810\n",
      "Epoch 20/25\n",
      " - 3s - loss: 0.0044 - acc: 0.9994 - val_loss: 0.0760 - val_acc: 0.9808\n",
      "Epoch 21/25\n",
      " - 3s - loss: 0.0034 - acc: 0.9997 - val_loss: 0.0687 - val_acc: 0.9815\n",
      "Epoch 22/25\n",
      " - 3s - loss: 0.0021 - acc: 0.9999 - val_loss: 0.0711 - val_acc: 0.9818\n",
      "Epoch 23/25\n",
      " - 3s - loss: 0.0020 - acc: 0.9998 - val_loss: 0.0746 - val_acc: 0.9825\n",
      "Epoch 24/25\n",
      " - 3s - loss: 0.0075 - acc: 0.9977 - val_loss: 0.0869 - val_acc: 0.9780\n",
      "Epoch 25/25\n",
      " - 3s - loss: 0.0075 - acc: 0.9977 - val_loss: 0.0906 - val_acc: 0.9775\n",
      "Wall time: 1min 11s\n"
     ]
    },
    {
     "data": {
      "text/plain": [
       "<keras.callbacks.History at 0x223025199b0>"
      ]
     },
     "execution_count": 4,
     "metadata": {},
     "output_type": "execute_result"
    }
   ],
   "source": [
    "%%time\n",
    "model.fit(X_train, y_train, validation_data=(X_test, y_test), epochs=25, batch_size=200, verbose=2)\n"
   ]
  },
  {
   "cell_type": "markdown",
   "metadata": {},
   "source": [
    "## 2. Training Neural Network dengan 1 hidden layer berjumlah 512 node"
   ]
  },
  {
   "cell_type": "code",
   "execution_count": 5,
   "metadata": {},
   "outputs": [
    {
     "name": "stdout",
     "output_type": "stream",
     "text": [
      "Train on 60000 samples, validate on 10000 samples\n",
      "Epoch 1/25\n",
      " - 5s - loss: 0.3084 - acc: 0.9140 - val_loss: 0.1497 - val_acc: 0.9560\n",
      "Epoch 2/25\n",
      " - 4s - loss: 0.1250 - acc: 0.9634 - val_loss: 0.1084 - val_acc: 0.9677\n",
      "Epoch 3/25\n",
      " - 4s - loss: 0.0829 - acc: 0.9757 - val_loss: 0.0889 - val_acc: 0.9733\n",
      "Epoch 4/25\n",
      " - 4s - loss: 0.0591 - acc: 0.9833 - val_loss: 0.0759 - val_acc: 0.9772\n",
      "Epoch 5/25\n",
      " - 4s - loss: 0.0442 - acc: 0.9875 - val_loss: 0.0671 - val_acc: 0.9793\n",
      "Epoch 6/25\n",
      " - 4s - loss: 0.0351 - acc: 0.9901 - val_loss: 0.0686 - val_acc: 0.9793\n",
      "Epoch 7/25\n",
      " - 4s - loss: 0.0277 - acc: 0.9923 - val_loss: 0.0672 - val_acc: 0.9788\n",
      "Epoch 8/25\n",
      " - 4s - loss: 0.0207 - acc: 0.9947 - val_loss: 0.0641 - val_acc: 0.9783\n",
      "Epoch 9/25\n",
      " - 4s - loss: 0.0167 - acc: 0.9959 - val_loss: 0.0635 - val_acc: 0.9808\n",
      "Epoch 10/25\n",
      " - 4s - loss: 0.0127 - acc: 0.9973 - val_loss: 0.0639 - val_acc: 0.9809\n",
      "Epoch 11/25\n",
      " - 4s - loss: 0.0095 - acc: 0.9981 - val_loss: 0.0647 - val_acc: 0.9809\n",
      "Epoch 12/25\n",
      " - 4s - loss: 0.0081 - acc: 0.9987 - val_loss: 0.0653 - val_acc: 0.9818\n",
      "Epoch 13/25\n",
      " - 4s - loss: 0.0061 - acc: 0.9992 - val_loss: 0.0639 - val_acc: 0.9814\n",
      "Epoch 14/25\n",
      " - 4s - loss: 0.0046 - acc: 0.9994 - val_loss: 0.0739 - val_acc: 0.9810\n",
      "Epoch 15/25\n",
      " - 4s - loss: 0.0030 - acc: 0.9998 - val_loss: 0.0670 - val_acc: 0.9826\n",
      "Epoch 16/25\n",
      " - 4s - loss: 0.0023 - acc: 0.9999 - val_loss: 0.0654 - val_acc: 0.9826\n",
      "Epoch 17/25\n",
      " - 4s - loss: 0.0018 - acc: 0.9999 - val_loss: 0.0683 - val_acc: 0.9820\n",
      "Epoch 18/25\n",
      " - 4s - loss: 0.0058 - acc: 0.9986 - val_loss: 0.1066 - val_acc: 0.9712\n",
      "Epoch 19/25\n",
      " - 4s - loss: 0.0163 - acc: 0.9943 - val_loss: 0.0780 - val_acc: 0.9795\n",
      "Epoch 20/25\n",
      " - 4s - loss: 0.0041 - acc: 0.9991 - val_loss: 0.0788 - val_acc: 0.9807\n",
      "Epoch 21/25\n",
      " - 4s - loss: 0.0012 - acc: 0.9999 - val_loss: 0.0736 - val_acc: 0.9828\n",
      "Epoch 22/25\n",
      " - 4s - loss: 6.1509e-04 - acc: 1.0000 - val_loss: 0.0731 - val_acc: 0.9824\n",
      "Epoch 23/25\n",
      " - 4s - loss: 4.6737e-04 - acc: 1.0000 - val_loss: 0.0739 - val_acc: 0.9830\n",
      "Epoch 24/25\n",
      " - 4s - loss: 4.1176e-04 - acc: 1.0000 - val_loss: 0.0747 - val_acc: 0.9831\n",
      "Epoch 25/25\n",
      " - 4s - loss: 3.6167e-04 - acc: 1.0000 - val_loss: 0.0757 - val_acc: 0.9826\n",
      "Wall time: 1min 33s\n"
     ]
    },
    {
     "data": {
      "text/plain": [
       "<keras.callbacks.History at 0x2236f5b8ba8>"
      ]
     },
     "execution_count": 5,
     "metadata": {},
     "output_type": "execute_result"
    }
   ],
   "source": [
    "%%time\n",
    "model2.fit(X_train, y_train, validation_data=(X_test, y_test), epochs=25, batch_size=200, verbose=2)"
   ]
  },
  {
   "cell_type": "markdown",
   "metadata": {},
   "source": [
    "## 3. Training Neural Network dengan 3 hidden layer berjumlah 128,256,512 node"
   ]
  },
  {
   "cell_type": "code",
   "execution_count": 6,
   "metadata": {},
   "outputs": [
    {
     "name": "stdout",
     "output_type": "stream",
     "text": [
      "Train on 60000 samples, validate on 10000 samples\n",
      "Epoch 1/25\n",
      " - 5s - loss: 0.3108 - acc: 0.9079 - val_loss: 0.1296 - val_acc: 0.9603\n",
      "Epoch 2/25\n",
      " - 3s - loss: 0.1097 - acc: 0.9669 - val_loss: 0.1094 - val_acc: 0.9648\n",
      "Epoch 3/25\n",
      " - 3s - loss: 0.0774 - acc: 0.9751 - val_loss: 0.1050 - val_acc: 0.9689\n",
      "Epoch 4/25\n",
      " - 3s - loss: 0.0561 - acc: 0.9825 - val_loss: 0.0888 - val_acc: 0.9737\n",
      "Epoch 5/25\n",
      " - 3s - loss: 0.0447 - acc: 0.9856 - val_loss: 0.0702 - val_acc: 0.9773\n",
      "Epoch 6/25\n",
      " - 3s - loss: 0.0328 - acc: 0.9891 - val_loss: 0.0789 - val_acc: 0.9766\n",
      "Epoch 7/25\n",
      " - 3s - loss: 0.0285 - acc: 0.9908 - val_loss: 0.1003 - val_acc: 0.9741\n",
      "Epoch 8/25\n",
      " - 3s - loss: 0.0243 - acc: 0.9919 - val_loss: 0.0804 - val_acc: 0.9779\n",
      "Epoch 9/25\n",
      " - 3s - loss: 0.0202 - acc: 0.9936 - val_loss: 0.0821 - val_acc: 0.9776\n",
      "Epoch 10/25\n",
      " - 3s - loss: 0.0193 - acc: 0.9934 - val_loss: 0.0773 - val_acc: 0.9815\n",
      "Epoch 11/25\n",
      " - 3s - loss: 0.0143 - acc: 0.9951 - val_loss: 0.1032 - val_acc: 0.9773\n",
      "Epoch 12/25\n",
      " - 3s - loss: 0.0172 - acc: 0.9943 - val_loss: 0.1135 - val_acc: 0.9746\n",
      "Epoch 13/25\n",
      " - 3s - loss: 0.0151 - acc: 0.9950 - val_loss: 0.0903 - val_acc: 0.9813\n",
      "Epoch 14/25\n",
      " - 3s - loss: 0.0131 - acc: 0.9954 - val_loss: 0.0962 - val_acc: 0.9780\n",
      "Epoch 15/25\n",
      " - 3s - loss: 0.0135 - acc: 0.9954 - val_loss: 0.0884 - val_acc: 0.9807\n",
      "Epoch 16/25\n",
      " - 3s - loss: 0.0108 - acc: 0.9962 - val_loss: 0.0877 - val_acc: 0.9795\n",
      "Epoch 17/25\n",
      " - 3s - loss: 0.0103 - acc: 0.9967 - val_loss: 0.1180 - val_acc: 0.9758\n",
      "Epoch 18/25\n",
      " - 3s - loss: 0.0119 - acc: 0.9963 - val_loss: 0.1166 - val_acc: 0.9763\n",
      "Epoch 19/25\n",
      " - 3s - loss: 0.0109 - acc: 0.9962 - val_loss: 0.1186 - val_acc: 0.9778\n",
      "Epoch 20/25\n",
      " - 3s - loss: 0.0082 - acc: 0.9972 - val_loss: 0.1048 - val_acc: 0.9797\n",
      "Epoch 21/25\n",
      " - 3s - loss: 0.0074 - acc: 0.9974 - val_loss: 0.1260 - val_acc: 0.9769\n",
      "Epoch 22/25\n",
      " - 3s - loss: 0.0137 - acc: 0.9956 - val_loss: 0.1079 - val_acc: 0.9788\n",
      "Epoch 23/25\n",
      " - 3s - loss: 0.0078 - acc: 0.9974 - val_loss: 0.1005 - val_acc: 0.9790\n",
      "Epoch 24/25\n",
      " - 3s - loss: 0.0112 - acc: 0.9965 - val_loss: 0.0900 - val_acc: 0.9815\n",
      "Epoch 25/25\n",
      " - 3s - loss: 0.0069 - acc: 0.9980 - val_loss: 0.0995 - val_acc: 0.9795\n",
      "Wall time: 1min 27s\n"
     ]
    },
    {
     "data": {
      "text/plain": [
       "<keras.callbacks.History at 0x22321abb400>"
      ]
     },
     "execution_count": 6,
     "metadata": {},
     "output_type": "execute_result"
    }
   ],
   "source": [
    "%%time\n",
    "model3.fit(X_train, y_train, validation_data=(X_test, y_test), epochs=25, batch_size=200, verbose=2)"
   ]
  },
  {
   "cell_type": "markdown",
   "metadata": {},
   "source": [
    "## 4. Perbandingan akurasi antara Neural Network"
   ]
  },
  {
   "cell_type": "code",
   "execution_count": 9,
   "metadata": {},
   "outputs": [
    {
     "name": "stdout",
     "output_type": "stream",
     "text": [
      "Neural Network dengan 1 Hidden layer (256):  0.9775\n",
      "Neural Network dengan 1 Hidden layer (512):  0.9826\n",
      "Neural Network dengan 3 Hidden layer (128,256,512):  0.9795\n"
     ]
    }
   ],
   "source": [
    "scores=model.evaluate(X_test, y_test, verbose=0)\n",
    "scores2=model2.evaluate(X_test, y_test, verbose=0)\n",
    "scores3=model3.evaluate(X_test, y_test, verbose=0)\n",
    "print(\"Neural Network dengan 1 Hidden layer (256): \",scores[1])\n",
    "print(\"Neural Network dengan 1 Hidden layer (512): \",scores2[1])\n",
    "print(\"Neural Network dengan 3 Hidden layer (128,256,512): \",scores3[1])"
   ]
  },
  {
   "cell_type": "code",
   "execution_count": null,
   "metadata": {},
   "outputs": [],
   "source": []
  }
 ],
 "metadata": {
  "kernelspec": {
   "display_name": "Python 3",
   "language": "python",
   "name": "python3"
  },
  "language_info": {
   "codemirror_mode": {
    "name": "ipython",
    "version": 3
   },
   "file_extension": ".py",
   "mimetype": "text/x-python",
   "name": "python",
   "nbconvert_exporter": "python",
   "pygments_lexer": "ipython3",
   "version": "3.6.6"
  }
 },
 "nbformat": 4,
 "nbformat_minor": 2
}
