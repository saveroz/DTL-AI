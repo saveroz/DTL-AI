{
 "cells": [
  {
   "cell_type": "markdown",
   "metadata": {},
   "source": [
    "## Digit Recognition menggunakan Neural Network dengan Library Scikit-Learn\n"
   ]
  },
  {
   "cell_type": "markdown",
   "metadata": {},
   "source": [
    "Data training yang digunakan berjumlah 60.000 dan test case berjumlah 10.000"
   ]
  },
  {
   "cell_type": "markdown",
   "metadata": {},
   "source": [
    "1. Import Library yang digunakan "
   ]
  },
  {
   "cell_type": "code",
   "execution_count": 40,
   "metadata": {},
   "outputs": [],
   "source": [
    "%matplotlib inline\n",
    "from sklearn.datasets import fetch_mldata # untuk mendapatkan data MNIST\n",
    "from sklearn.model_selection import train_test_split # memisahkan data training dan data test\n",
    "import matplotlib.pyplot as plt\n",
    "from sklearn import datasets, metrics\n",
    "from sklearn.neural_network import MLPClassifier # import Neural Network\n",
    "import numpy as np\n",
    "import matplotlib.pyplot as plt\n",
    "from sklearn.metrics import accuracy_score\n"
   ]
  },
  {
   "cell_type": "code",
   "execution_count": 41,
   "metadata": {},
   "outputs": [
    {
     "data": {
      "text/plain": [
       "{'DESCR': 'mldata.org dataset: mnist-original',\n",
       " 'COL_NAMES': ['label', 'data'],\n",
       " 'target': array([0., 0., 0., ..., 9., 9., 9.]),\n",
       " 'data': array([[0, 0, 0, ..., 0, 0, 0],\n",
       "        [0, 0, 0, ..., 0, 0, 0],\n",
       "        [0, 0, 0, ..., 0, 0, 0],\n",
       "        ...,\n",
       "        [0, 0, 0, ..., 0, 0, 0],\n",
       "        [0, 0, 0, ..., 0, 0, 0],\n",
       "        [0, 0, 0, ..., 0, 0, 0]], dtype=uint8)}"
      ]
     },
     "execution_count": 41,
     "metadata": {},
     "output_type": "execute_result"
    }
   ],
   "source": [
    "mnist = fetch_mldata('MNIST original') # load dataset\n",
    "mnist"
   ]
  },
  {
   "cell_type": "code",
   "execution_count": 42,
   "metadata": {},
   "outputs": [],
   "source": [
    "train_img, test_img, train_lbl, test_lbl = train_test_split(\n",
    "    mnist.data, mnist.target, test_size=1/7.0, random_state=0)  "
   ]
  },
  {
   "cell_type": "code",
   "execution_count": 43,
   "metadata": {},
   "outputs": [
    {
     "name": "stdout",
     "output_type": "stream",
     "text": [
      "(60000, 784)\n",
      "(10000, 784)\n",
      "(60000,)\n",
      "(10000,)\n"
     ]
    }
   ],
   "source": [
    "print (train_img.shape)\n",
    "print (test_img.shape)\n",
    "print (train_lbl.shape)\n",
    "print (test_lbl.shape)"
   ]
  },
  {
   "cell_type": "markdown",
   "metadata": {},
   "source": [
    "## 1. Menggunakan Neural Network dengan hidden layer 256"
   ]
  },
  {
   "cell_type": "code",
   "execution_count": 44,
   "metadata": {},
   "outputs": [],
   "source": [
    "mlp = MLPClassifier(hidden_layer_sizes=(128,256,512,),activation='relu', alpha=0.0001, max_iter=50,\n",
    "                    solver='adam', verbose=10, random_state=None,learning_rate='adaptive'\n",
    "                    ,learning_rate_init=0.0001)"
   ]
  },
  {
   "cell_type": "code",
   "execution_count": 45,
   "metadata": {},
   "outputs": [
    {
     "name": "stdout",
     "output_type": "stream",
     "text": [
      "Iteration 1, loss = 2.92211029\n",
      "Iteration 2, loss = 0.84431629\n",
      "Iteration 3, loss = 0.52667878\n",
      "Iteration 4, loss = 0.36183762\n",
      "Iteration 5, loss = 0.25999772\n",
      "Iteration 6, loss = 0.18830240\n",
      "Iteration 7, loss = 0.13621140\n",
      "Iteration 8, loss = 0.09701706\n",
      "Iteration 9, loss = 0.07567382\n",
      "Iteration 10, loss = 0.05090492\n",
      "Iteration 11, loss = 0.03532607\n",
      "Iteration 12, loss = 0.02409885\n",
      "Iteration 13, loss = 0.01744041\n",
      "Iteration 14, loss = 0.01365625\n",
      "Iteration 15, loss = 0.01156701\n",
      "Iteration 16, loss = 0.01684088\n",
      "Iteration 17, loss = 0.01870090\n",
      "Iteration 18, loss = 0.02471405\n",
      "Training loss did not improve more than tol=0.000100 for two consecutive epochs. Stopping.\n",
      "Wall time: 3min 27s\n"
     ]
    },
    {
     "data": {
      "text/plain": [
       "MLPClassifier(activation='relu', alpha=0.0001, batch_size='auto', beta_1=0.9,\n",
       "       beta_2=0.999, early_stopping=False, epsilon=1e-08,\n",
       "       hidden_layer_sizes=(128, 256, 512), learning_rate='adaptive',\n",
       "       learning_rate_init=0.0001, max_iter=50, momentum=0.9,\n",
       "       nesterovs_momentum=True, power_t=0.5, random_state=None,\n",
       "       shuffle=True, solver='adam', tol=0.0001, validation_fraction=0.1,\n",
       "       verbose=10, warm_start=False)"
      ]
     },
     "execution_count": 45,
     "metadata": {},
     "output_type": "execute_result"
    }
   ],
   "source": [
    "%%time\n",
    "mlp.fit(train_img, train_lbl)\n",
    "#print(\"Training set score: %f\" % mlp.score(X_train, y_train))\n",
    "#print(\"Test set score: %f\" % mlp.score(X_test, y_test))"
   ]
  },
  {
   "cell_type": "markdown",
   "metadata": {},
   "source": [
    "## 2. Menggunakan Neural Network dengan hidden layer 512 node"
   ]
  },
  {
   "cell_type": "code",
   "execution_count": 46,
   "metadata": {},
   "outputs": [],
   "source": [
    "mlp2 = MLPClassifier(hidden_layer_sizes=(512,),activation='relu', alpha=0.0001, max_iter=50,\n",
    "                    solver='adam', verbose=10, random_state=None,learning_rate='adaptive'\n",
    "                    ,learning_rate_init=0.0001)"
   ]
  },
  {
   "cell_type": "code",
   "execution_count": 47,
   "metadata": {},
   "outputs": [
    {
     "name": "stdout",
     "output_type": "stream",
     "text": [
      "Iteration 1, loss = 4.15538853\n",
      "Iteration 2, loss = 1.48487041\n",
      "Iteration 3, loss = 0.99726477\n",
      "Iteration 4, loss = 0.72572019\n",
      "Iteration 5, loss = 0.54573637\n",
      "Iteration 6, loss = 0.43434632\n",
      "Iteration 7, loss = 0.32429163\n",
      "Iteration 8, loss = 0.25272503\n",
      "Iteration 9, loss = 0.20252369\n",
      "Iteration 10, loss = 0.15378653\n",
      "Iteration 11, loss = 0.13082817\n",
      "Iteration 12, loss = 0.10335535\n",
      "Iteration 13, loss = 0.09493350\n",
      "Iteration 14, loss = 0.08710122\n",
      "Iteration 15, loss = 0.06239347\n",
      "Iteration 16, loss = 0.06680587\n",
      "Iteration 17, loss = 0.07400521\n",
      "Iteration 18, loss = 0.06124588\n",
      "Iteration 19, loss = 0.07787948\n",
      "Iteration 20, loss = 0.05494564\n",
      "Iteration 21, loss = 0.04625165\n",
      "Iteration 22, loss = 0.04617405\n",
      "Iteration 23, loss = 0.04556495\n",
      "Iteration 24, loss = 0.05403908\n",
      "Iteration 25, loss = 0.04089847\n",
      "Iteration 26, loss = 0.03155281\n",
      "Iteration 27, loss = 0.04108409\n",
      "Iteration 28, loss = 0.05639580\n",
      "Iteration 29, loss = 0.04007897\n",
      "Training loss did not improve more than tol=0.000100 for two consecutive epochs. Stopping.\n",
      "Wall time: 8min 7s\n"
     ]
    },
    {
     "data": {
      "text/plain": [
       "MLPClassifier(activation='relu', alpha=0.0001, batch_size='auto', beta_1=0.9,\n",
       "       beta_2=0.999, early_stopping=False, epsilon=1e-08,\n",
       "       hidden_layer_sizes=(512,), learning_rate='adaptive',\n",
       "       learning_rate_init=0.0001, max_iter=50, momentum=0.9,\n",
       "       nesterovs_momentum=True, power_t=0.5, random_state=None,\n",
       "       shuffle=True, solver='adam', tol=0.0001, validation_fraction=0.1,\n",
       "       verbose=10, warm_start=False)"
      ]
     },
     "execution_count": 47,
     "metadata": {},
     "output_type": "execute_result"
    }
   ],
   "source": [
    "%%time\n",
    "mlp2.fit(train_img, train_lbl)"
   ]
  },
  {
   "cell_type": "markdown",
   "metadata": {},
   "source": [
    "## 3. Menggunakan Neural Network dengan 3 hidden layer (128,256,512) "
   ]
  },
  {
   "cell_type": "code",
   "execution_count": 48,
   "metadata": {},
   "outputs": [],
   "source": [
    "mlp3 = MLPClassifier(hidden_layer_sizes=(128,256,512,),activation='relu', alpha=0.0001, max_iter=50,\n",
    "                    solver='adam', verbose=10, random_state=None,learning_rate='adaptive'\n",
    "                    ,learning_rate_init=0.0001)"
   ]
  },
  {
   "cell_type": "code",
   "execution_count": 49,
   "metadata": {},
   "outputs": [
    {
     "name": "stdout",
     "output_type": "stream",
     "text": [
      "Iteration 1, loss = 3.14874417\n",
      "Iteration 2, loss = 0.85022180\n",
      "Iteration 3, loss = 0.54278693\n",
      "Iteration 4, loss = 0.36872043\n",
      "Iteration 5, loss = 0.26527411\n",
      "Iteration 6, loss = 0.19557749\n",
      "Iteration 7, loss = 0.14226610\n",
      "Iteration 8, loss = 0.10326665\n",
      "Iteration 9, loss = 0.07720226\n",
      "Iteration 10, loss = 0.05496659\n",
      "Iteration 11, loss = 0.03973315\n",
      "Iteration 12, loss = 0.02664582\n",
      "Iteration 13, loss = 0.02066388\n",
      "Iteration 14, loss = 0.01777283\n",
      "Iteration 15, loss = 0.01071330\n",
      "Iteration 16, loss = 0.00736367\n",
      "Iteration 17, loss = 0.00629314\n",
      "Iteration 18, loss = 0.01408930\n",
      "Iteration 19, loss = 0.04932589\n",
      "Iteration 20, loss = 0.03484937\n",
      "Training loss did not improve more than tol=0.000100 for two consecutive epochs. Stopping.\n",
      "Wall time: 4min 27s\n"
     ]
    },
    {
     "data": {
      "text/plain": [
       "MLPClassifier(activation='relu', alpha=0.0001, batch_size='auto', beta_1=0.9,\n",
       "       beta_2=0.999, early_stopping=False, epsilon=1e-08,\n",
       "       hidden_layer_sizes=(128, 256, 512), learning_rate='adaptive',\n",
       "       learning_rate_init=0.0001, max_iter=50, momentum=0.9,\n",
       "       nesterovs_momentum=True, power_t=0.5, random_state=None,\n",
       "       shuffle=True, solver='adam', tol=0.0001, validation_fraction=0.1,\n",
       "       verbose=10, warm_start=False)"
      ]
     },
     "execution_count": 49,
     "metadata": {},
     "output_type": "execute_result"
    }
   ],
   "source": [
    "%%time\n",
    "mlp3.fit(train_img, train_lbl)"
   ]
  },
  {
   "cell_type": "markdown",
   "metadata": {},
   "source": [
    "## Perbandingan akurasi dari ketiga Neural Network"
   ]
  },
  {
   "cell_type": "code",
   "execution_count": 51,
   "metadata": {},
   "outputs": [
    {
     "name": "stdout",
     "output_type": "stream",
     "text": [
      "Test set score NN Hidden Layer (256): 0.943500\n",
      "Test set score NN Hidden Layer (512): 0.966200\n",
      "Test set score NN Hidden Layer (128,256,512): 0.950900\n"
     ]
    }
   ],
   "source": [
    "print(\"Test set score NN Hidden Layer (256): %f\" % mlp.score(test_img, test_lbl))\n",
    "print(\"Test set score NN Hidden Layer (512): %f\" % mlp2.score(test_img, test_lbl))\n",
    "print(\"Test set score NN Hidden Layer (128,256,512): %f\" % mlp3.score(test_img, test_lbl))"
   ]
  },
  {
   "cell_type": "code",
   "execution_count": null,
   "metadata": {},
   "outputs": [],
   "source": []
  }
 ],
 "metadata": {
  "kernelspec": {
   "display_name": "Python 3",
   "language": "python",
   "name": "python3"
  },
  "language_info": {
   "codemirror_mode": {
    "name": "ipython",
    "version": 3
   },
   "file_extension": ".py",
   "mimetype": "text/x-python",
   "name": "python",
   "nbconvert_exporter": "python",
   "pygments_lexer": "ipython3",
   "version": "3.6.6"
  }
 },
 "nbformat": 4,
 "nbformat_minor": 2
}
