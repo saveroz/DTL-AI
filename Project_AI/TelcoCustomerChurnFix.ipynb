{
 "cells": [
  {
   "cell_type": "markdown",
   "metadata": {},
   "source": [
    "# Telco Customer Churn Rate"
   ]
  },
  {
   "cell_type": "markdown",
   "metadata": {},
   "source": [
    "Pada perusahaan layanan telekomunikasi, pasti ada pelanggan yang berhenti menggunakan layanan tersebut karena beberapa faktor\n",
    "maka diperlukan program-program promosi yang ditargetkan langsung terhadap pelanggan yang diprediksi akan berhenti. Machine\n",
    "learning model ini dibuat untuk memprediksi pelanggan yang akan berhenti langganan."
   ]
  },
  {
   "cell_type": "markdown",
   "metadata": {},
   "source": [
    "## 1. Data Preparation"
   ]
  },
  {
   "cell_type": "markdown",
   "metadata": {},
   "source": [
    "Pada Proses ini kita akan melakukan cleaning terhadap data yang akan kita gunakan. Untuk langkah pertama kita akan menghilangkan fitur yang tidak perlu dan membersihkan data dari data null. selanjutnya mengubah data string menjadi numerik. dan yang terakhir kita akan melakukan normalisasi data."
   ]
  },
  {
   "cell_type": "code",
   "execution_count": 15,
   "metadata": {},
   "outputs": [],
   "source": [
    "import numpy as np # linear algebra\n",
    "import pandas as pd # data processing, CSV file I/O (e.g. pd.read_csv)\n",
    "import matplotlib.pyplot as plt # this is used for the plot the graph \n",
    "import seaborn as sns # used for plot interactive graph.\n",
    "from sklearn import preprocessing\n",
    "from sklearn.model_selection import train_test_split\n",
    "import warnings\n",
    "warnings.filterwarnings(\"ignore\")\n",
    "from pylab import rcParams\n",
    "%matplotlib inline\n",
    "\n",
    "data = pd.read_csv('D:/Digital Talent Scholarship/project/telco-churn-rate/WA_Fn-UseC_-Telco-Customer-Churn.csv') # Load data yang akan kita gunakan\n",
    "df = pd.read_csv('D:/Digital Talent Scholarship/project/telco-churn-rate/WA_Fn-UseC_-Telco-Customer-Churn.csv')"
   ]
  },
  {
   "cell_type": "markdown",
   "metadata": {},
   "source": [
    "### Data Visualization"
   ]
  },
  {
   "cell_type": "code",
   "execution_count": 16,
   "metadata": {},
   "outputs": [
    {
     "data": {
      "text/html": [
       "<div>\n",
       "<style scoped>\n",
       "    .dataframe tbody tr th:only-of-type {\n",
       "        vertical-align: middle;\n",
       "    }\n",
       "\n",
       "    .dataframe tbody tr th {\n",
       "        vertical-align: top;\n",
       "    }\n",
       "\n",
       "    .dataframe thead th {\n",
       "        text-align: right;\n",
       "    }\n",
       "</style>\n",
       "<table border=\"1\" class=\"dataframe\">\n",
       "  <thead>\n",
       "    <tr style=\"text-align: right;\">\n",
       "      <th></th>\n",
       "      <th>customerID</th>\n",
       "      <th>gender</th>\n",
       "      <th>SeniorCitizen</th>\n",
       "      <th>Partner</th>\n",
       "      <th>Dependents</th>\n",
       "      <th>tenure</th>\n",
       "      <th>PhoneService</th>\n",
       "      <th>MultipleLines</th>\n",
       "      <th>InternetService</th>\n",
       "      <th>OnlineSecurity</th>\n",
       "      <th>...</th>\n",
       "      <th>DeviceProtection</th>\n",
       "      <th>TechSupport</th>\n",
       "      <th>StreamingTV</th>\n",
       "      <th>StreamingMovies</th>\n",
       "      <th>Contract</th>\n",
       "      <th>PaperlessBilling</th>\n",
       "      <th>PaymentMethod</th>\n",
       "      <th>MonthlyCharges</th>\n",
       "      <th>TotalCharges</th>\n",
       "      <th>Churn</th>\n",
       "    </tr>\n",
       "  </thead>\n",
       "  <tbody>\n",
       "    <tr>\n",
       "      <th>0</th>\n",
       "      <td>7590-VHVEG</td>\n",
       "      <td>Female</td>\n",
       "      <td>0</td>\n",
       "      <td>Yes</td>\n",
       "      <td>No</td>\n",
       "      <td>1</td>\n",
       "      <td>No</td>\n",
       "      <td>No phone service</td>\n",
       "      <td>DSL</td>\n",
       "      <td>No</td>\n",
       "      <td>...</td>\n",
       "      <td>No</td>\n",
       "      <td>No</td>\n",
       "      <td>No</td>\n",
       "      <td>No</td>\n",
       "      <td>Month-to-month</td>\n",
       "      <td>Yes</td>\n",
       "      <td>Electronic check</td>\n",
       "      <td>29.85</td>\n",
       "      <td>29.85</td>\n",
       "      <td>No</td>\n",
       "    </tr>\n",
       "    <tr>\n",
       "      <th>1</th>\n",
       "      <td>5575-GNVDE</td>\n",
       "      <td>Male</td>\n",
       "      <td>0</td>\n",
       "      <td>No</td>\n",
       "      <td>No</td>\n",
       "      <td>34</td>\n",
       "      <td>Yes</td>\n",
       "      <td>No</td>\n",
       "      <td>DSL</td>\n",
       "      <td>Yes</td>\n",
       "      <td>...</td>\n",
       "      <td>Yes</td>\n",
       "      <td>No</td>\n",
       "      <td>No</td>\n",
       "      <td>No</td>\n",
       "      <td>One year</td>\n",
       "      <td>No</td>\n",
       "      <td>Mailed check</td>\n",
       "      <td>56.95</td>\n",
       "      <td>1889.5</td>\n",
       "      <td>No</td>\n",
       "    </tr>\n",
       "    <tr>\n",
       "      <th>2</th>\n",
       "      <td>3668-QPYBK</td>\n",
       "      <td>Male</td>\n",
       "      <td>0</td>\n",
       "      <td>No</td>\n",
       "      <td>No</td>\n",
       "      <td>2</td>\n",
       "      <td>Yes</td>\n",
       "      <td>No</td>\n",
       "      <td>DSL</td>\n",
       "      <td>Yes</td>\n",
       "      <td>...</td>\n",
       "      <td>No</td>\n",
       "      <td>No</td>\n",
       "      <td>No</td>\n",
       "      <td>No</td>\n",
       "      <td>Month-to-month</td>\n",
       "      <td>Yes</td>\n",
       "      <td>Mailed check</td>\n",
       "      <td>53.85</td>\n",
       "      <td>108.15</td>\n",
       "      <td>Yes</td>\n",
       "    </tr>\n",
       "    <tr>\n",
       "      <th>3</th>\n",
       "      <td>7795-CFOCW</td>\n",
       "      <td>Male</td>\n",
       "      <td>0</td>\n",
       "      <td>No</td>\n",
       "      <td>No</td>\n",
       "      <td>45</td>\n",
       "      <td>No</td>\n",
       "      <td>No phone service</td>\n",
       "      <td>DSL</td>\n",
       "      <td>Yes</td>\n",
       "      <td>...</td>\n",
       "      <td>Yes</td>\n",
       "      <td>Yes</td>\n",
       "      <td>No</td>\n",
       "      <td>No</td>\n",
       "      <td>One year</td>\n",
       "      <td>No</td>\n",
       "      <td>Bank transfer (automatic)</td>\n",
       "      <td>42.30</td>\n",
       "      <td>1840.75</td>\n",
       "      <td>No</td>\n",
       "    </tr>\n",
       "    <tr>\n",
       "      <th>4</th>\n",
       "      <td>9237-HQITU</td>\n",
       "      <td>Female</td>\n",
       "      <td>0</td>\n",
       "      <td>No</td>\n",
       "      <td>No</td>\n",
       "      <td>2</td>\n",
       "      <td>Yes</td>\n",
       "      <td>No</td>\n",
       "      <td>Fiber optic</td>\n",
       "      <td>No</td>\n",
       "      <td>...</td>\n",
       "      <td>No</td>\n",
       "      <td>No</td>\n",
       "      <td>No</td>\n",
       "      <td>No</td>\n",
       "      <td>Month-to-month</td>\n",
       "      <td>Yes</td>\n",
       "      <td>Electronic check</td>\n",
       "      <td>70.70</td>\n",
       "      <td>151.65</td>\n",
       "      <td>Yes</td>\n",
       "    </tr>\n",
       "  </tbody>\n",
       "</table>\n",
       "<p>5 rows × 21 columns</p>\n",
       "</div>"
      ],
      "text/plain": [
       "   customerID  gender  SeniorCitizen Partner Dependents  tenure PhoneService  \\\n",
       "0  7590-VHVEG  Female              0     Yes         No       1           No   \n",
       "1  5575-GNVDE    Male              0      No         No      34          Yes   \n",
       "2  3668-QPYBK    Male              0      No         No       2          Yes   \n",
       "3  7795-CFOCW    Male              0      No         No      45           No   \n",
       "4  9237-HQITU  Female              0      No         No       2          Yes   \n",
       "\n",
       "      MultipleLines InternetService OnlineSecurity  ...  DeviceProtection  \\\n",
       "0  No phone service             DSL             No  ...                No   \n",
       "1                No             DSL            Yes  ...               Yes   \n",
       "2                No             DSL            Yes  ...                No   \n",
       "3  No phone service             DSL            Yes  ...               Yes   \n",
       "4                No     Fiber optic             No  ...                No   \n",
       "\n",
       "  TechSupport StreamingTV StreamingMovies        Contract PaperlessBilling  \\\n",
       "0          No          No              No  Month-to-month              Yes   \n",
       "1          No          No              No        One year               No   \n",
       "2          No          No              No  Month-to-month              Yes   \n",
       "3         Yes          No              No        One year               No   \n",
       "4          No          No              No  Month-to-month              Yes   \n",
       "\n",
       "               PaymentMethod MonthlyCharges  TotalCharges Churn  \n",
       "0           Electronic check          29.85         29.85    No  \n",
       "1               Mailed check          56.95        1889.5    No  \n",
       "2               Mailed check          53.85        108.15   Yes  \n",
       "3  Bank transfer (automatic)          42.30       1840.75    No  \n",
       "4           Electronic check          70.70        151.65   Yes  \n",
       "\n",
       "[5 rows x 21 columns]"
      ]
     },
     "execution_count": 16,
     "metadata": {},
     "output_type": "execute_result"
    }
   ],
   "source": [
    "data.head()"
   ]
  },
  {
   "cell_type": "code",
   "execution_count": 17,
   "metadata": {},
   "outputs": [
    {
     "data": {
      "image/png": "[encoded data removed]",
      "text/plain": [
       "<Figure size 216x216 with 1 Axes>"
      ]
     },
     "metadata": {
      "needs_background": "light"
     },
     "output_type": "display_data"
    }
   ],
   "source": [
    "ax = sns.catplot(x=\"Churn\", kind=\"count\", data=df, height=3, aspect=1, orient='v')"
   ]
  },
  {
   "cell_type": "code",
   "execution_count": 3,
   "metadata": {},
   "outputs": [
    {
     "data": {
      "text/plain": [
       "No     0.73463\n",
       "Yes    0.26537\n",
       "Name: Churn, dtype: float64"
      ]
     },
     "execution_count": 3,
     "metadata": {},
     "output_type": "execute_result"
    }
   ],
   "source": [
    "df['Churn'].value_counts(normalize=True)"
   ]
  },
  {
   "cell_type": "code",
   "execution_count": 18,
   "metadata": {},
   "outputs": [
    {
     "name": "stdout",
     "output_type": "stream",
     "text": [
      "data yang hilang berjumlah  11\n",
      "persen data yang hilang 0.156%\n"
     ]
    }
   ],
   "source": [
    "missing_data=len(df[df['TotalCharges'] == \" \"])\n",
    "total_data=len(df['TotalCharges'])\n",
    "percentage_missing_data=missing_data/total_data*100\n",
    "percentage_missing_data=round(percentage_missing_data,3)\n",
    "print('data yang hilang berjumlah ', missing_data)\n",
    "print('persen data yang hilang '+str(percentage_missing_data)+'%')\n",
    "\n"
   ]
  },
  {
   "cell_type": "code",
   "execution_count": 8,
   "metadata": {},
   "outputs": [
    {
     "data": {
      "image/png": "[encoded data removed]",
      "text/plain": [
       "<Figure size 432x288 with 1 Axes>"
      ]
     },
     "metadata": {
      "needs_background": "light"
     },
     "output_type": "display_data"
    }
   ],
   "source": [
    "def barplot_percentages(feature, orient='v', axis_name=\"percentage of customers\"):\n",
    "    ratios = pd.DataFrame()\n",
    "    g = data.groupby(feature)[\"Churn\"].value_counts().to_frame()\n",
    "    g = g.rename({\"Churn\": axis_name}, axis=1).reset_index()\n",
    "    g[axis_name] = g[axis_name]/len(data)\n",
    "    if orient == 'v':\n",
    "        ax = sns.barplot(x=feature, y= axis_name, hue='Churn', data=g, orient=orient)\n",
    "        ax.set_yticklabels(['{:,.0%}'.format(y) for y in ax.get_yticks()])\n",
    "    else:\n",
    "        ax = sns.barplot(x= axis_name, y=feature, hue='Churn', data=g, orient=orient)\n",
    "        ax.set_xticklabels(['{:,.0%}'.format(x) for x in ax.get_xticks()])\n",
    "    ax.plot()\n",
    "barplot_percentages(\"Contract\")"
   ]
  },
  {
   "cell_type": "markdown",
   "metadata": {},
   "source": [
    "## 2. Data Cleaning\n"
   ]
  },
  {
   "cell_type": "markdown",
   "metadata": {},
   "source": [
    "fitur customer ID akan dihilangkan karena tidak berpengaruh terhadap labelling data."
   ]
  },
  {
   "cell_type": "code",
   "execution_count": 19,
   "metadata": {},
   "outputs": [],
   "source": [
    "data.drop(['customerID'], axis=1, inplace=True)"
   ]
  },
  {
   "cell_type": "markdown",
   "metadata": {},
   "source": [
    "karena terdapat data null pada kolom TotalCharges, maka akan kita hilangkan"
   ]
  },
  {
   "cell_type": "code",
   "execution_count": 20,
   "metadata": {},
   "outputs": [],
   "source": [
    "#Data Manipulation\n",
    "data['TotalCharges'] = data[\"TotalCharges\"].replace(\" \",np.nan)# mengganti spasi menjadi data null\n",
    "\n",
    "data=data.dropna() #Menghilangkan nilai null pada data\n",
    "data[\"TotalCharges\"] = data[\"TotalCharges\"].astype(float) #mengubah data menjadi tipe float\n"
   ]
  },
  {
   "cell_type": "markdown",
   "metadata": {},
   "source": [
    "## 3. Data Preprocessing"
   ]
  },
  {
   "cell_type": "markdown",
   "metadata": {},
   "source": [
    "### Mengubah data string menjadi numerik"
   ]
  },
  {
   "cell_type": "code",
   "execution_count": 21,
   "metadata": {},
   "outputs": [
    {
     "data": {
      "text/html": [
       "<div>\n",
       "<style scoped>\n",
       "    .dataframe tbody tr th:only-of-type {\n",
       "        vertical-align: middle;\n",
       "    }\n",
       "\n",
       "    .dataframe tbody tr th {\n",
       "        vertical-align: top;\n",
       "    }\n",
       "\n",
       "    .dataframe thead th {\n",
       "        text-align: right;\n",
       "    }\n",
       "</style>\n",
       "<table border=\"1\" class=\"dataframe\">\n",
       "  <thead>\n",
       "    <tr style=\"text-align: right;\">\n",
       "      <th></th>\n",
       "      <th>gender</th>\n",
       "      <th>SeniorCitizen</th>\n",
       "      <th>Partner</th>\n",
       "      <th>Dependents</th>\n",
       "      <th>tenure</th>\n",
       "      <th>PhoneService</th>\n",
       "      <th>MultipleLines</th>\n",
       "      <th>OnlineSecurity</th>\n",
       "      <th>OnlineBackup</th>\n",
       "      <th>DeviceProtection</th>\n",
       "      <th>...</th>\n",
       "      <th>StreamingMovies</th>\n",
       "      <th>Contract</th>\n",
       "      <th>PaperlessBilling</th>\n",
       "      <th>PaymentMethod</th>\n",
       "      <th>MonthlyCharges</th>\n",
       "      <th>TotalCharges</th>\n",
       "      <th>Churn</th>\n",
       "      <th>Has_InternetService</th>\n",
       "      <th>Fiber_optic</th>\n",
       "      <th>DSL</th>\n",
       "    </tr>\n",
       "  </thead>\n",
       "  <tbody>\n",
       "    <tr>\n",
       "      <th>0</th>\n",
       "      <td>0</td>\n",
       "      <td>0</td>\n",
       "      <td>1</td>\n",
       "      <td>0</td>\n",
       "      <td>1</td>\n",
       "      <td>0</td>\n",
       "      <td>0</td>\n",
       "      <td>0</td>\n",
       "      <td>1</td>\n",
       "      <td>0</td>\n",
       "      <td>...</td>\n",
       "      <td>0</td>\n",
       "      <td>0</td>\n",
       "      <td>1</td>\n",
       "      <td>3</td>\n",
       "      <td>29.85</td>\n",
       "      <td>29.85</td>\n",
       "      <td>0</td>\n",
       "      <td>1</td>\n",
       "      <td>0</td>\n",
       "      <td>1</td>\n",
       "    </tr>\n",
       "    <tr>\n",
       "      <th>1</th>\n",
       "      <td>1</td>\n",
       "      <td>0</td>\n",
       "      <td>0</td>\n",
       "      <td>0</td>\n",
       "      <td>34</td>\n",
       "      <td>1</td>\n",
       "      <td>0</td>\n",
       "      <td>1</td>\n",
       "      <td>0</td>\n",
       "      <td>1</td>\n",
       "      <td>...</td>\n",
       "      <td>0</td>\n",
       "      <td>1</td>\n",
       "      <td>0</td>\n",
       "      <td>2</td>\n",
       "      <td>56.95</td>\n",
       "      <td>1889.50</td>\n",
       "      <td>0</td>\n",
       "      <td>1</td>\n",
       "      <td>0</td>\n",
       "      <td>1</td>\n",
       "    </tr>\n",
       "    <tr>\n",
       "      <th>2</th>\n",
       "      <td>1</td>\n",
       "      <td>0</td>\n",
       "      <td>0</td>\n",
       "      <td>0</td>\n",
       "      <td>2</td>\n",
       "      <td>1</td>\n",
       "      <td>0</td>\n",
       "      <td>1</td>\n",
       "      <td>1</td>\n",
       "      <td>0</td>\n",
       "      <td>...</td>\n",
       "      <td>0</td>\n",
       "      <td>0</td>\n",
       "      <td>1</td>\n",
       "      <td>2</td>\n",
       "      <td>53.85</td>\n",
       "      <td>108.15</td>\n",
       "      <td>1</td>\n",
       "      <td>1</td>\n",
       "      <td>0</td>\n",
       "      <td>1</td>\n",
       "    </tr>\n",
       "    <tr>\n",
       "      <th>3</th>\n",
       "      <td>1</td>\n",
       "      <td>0</td>\n",
       "      <td>0</td>\n",
       "      <td>0</td>\n",
       "      <td>45</td>\n",
       "      <td>0</td>\n",
       "      <td>0</td>\n",
       "      <td>1</td>\n",
       "      <td>0</td>\n",
       "      <td>1</td>\n",
       "      <td>...</td>\n",
       "      <td>0</td>\n",
       "      <td>1</td>\n",
       "      <td>0</td>\n",
       "      <td>1</td>\n",
       "      <td>42.30</td>\n",
       "      <td>1840.75</td>\n",
       "      <td>0</td>\n",
       "      <td>1</td>\n",
       "      <td>0</td>\n",
       "      <td>1</td>\n",
       "    </tr>\n",
       "    <tr>\n",
       "      <th>4</th>\n",
       "      <td>0</td>\n",
       "      <td>0</td>\n",
       "      <td>0</td>\n",
       "      <td>0</td>\n",
       "      <td>2</td>\n",
       "      <td>1</td>\n",
       "      <td>0</td>\n",
       "      <td>0</td>\n",
       "      <td>0</td>\n",
       "      <td>0</td>\n",
       "      <td>...</td>\n",
       "      <td>0</td>\n",
       "      <td>0</td>\n",
       "      <td>1</td>\n",
       "      <td>3</td>\n",
       "      <td>70.70</td>\n",
       "      <td>151.65</td>\n",
       "      <td>1</td>\n",
       "      <td>1</td>\n",
       "      <td>1</td>\n",
       "      <td>0</td>\n",
       "    </tr>\n",
       "  </tbody>\n",
       "</table>\n",
       "<p>5 rows × 22 columns</p>\n",
       "</div>"
      ],
      "text/plain": [
       "   gender  SeniorCitizen  Partner  Dependents  tenure  PhoneService  \\\n",
       "0       0              0        1           0       1             0   \n",
       "1       1              0        0           0      34             1   \n",
       "2       1              0        0           0       2             1   \n",
       "3       1              0        0           0      45             0   \n",
       "4       0              0        0           0       2             1   \n",
       "\n",
       "   MultipleLines  OnlineSecurity  OnlineBackup  DeviceProtection ...   \\\n",
       "0              0               0             1                 0 ...    \n",
       "1              0               1             0                 1 ...    \n",
       "2              0               1             1                 0 ...    \n",
       "3              0               1             0                 1 ...    \n",
       "4              0               0             0                 0 ...    \n",
       "\n",
       "   StreamingMovies  Contract  PaperlessBilling  PaymentMethod  MonthlyCharges  \\\n",
       "0                0         0                 1              3           29.85   \n",
       "1                0         1                 0              2           56.95   \n",
       "2                0         0                 1              2           53.85   \n",
       "3                0         1                 0              1           42.30   \n",
       "4                0         0                 1              3           70.70   \n",
       "\n",
       "   TotalCharges  Churn  Has_InternetService  Fiber_optic  DSL  \n",
       "0         29.85      0                    1            0    1  \n",
       "1       1889.50      0                    1            0    1  \n",
       "2        108.15      1                    1            0    1  \n",
       "3       1840.75      0                    1            0    1  \n",
       "4        151.65      1                    1            1    0  \n",
       "\n",
       "[5 rows x 22 columns]"
      ]
     },
     "execution_count": 21,
     "metadata": {},
     "output_type": "execute_result"
    }
   ],
   "source": [
    "data['Partner'] = data['Partner'].map(lambda s :1  if s =='Yes' else 0)\n",
    "data['Churn'] = data['Churn'].map(lambda s :1  if s =='Yes' else 0)\n",
    "data['gender'] = data['gender'].map(lambda s :1  if s =='Male' else 0)\n",
    "data['Dependents'] = data['Dependents'].map(lambda s :1  if s =='Yes' else 0)\n",
    "data['PhoneService'] = data['PhoneService'].map(lambda s :1  if s =='Yes' else 0)\n",
    "data['PaperlessBilling'] = data['PaperlessBilling'].map(lambda s :1  if s =='Yes' else 0)\n",
    "data['OnlineSecurity'] = data['OnlineSecurity'].map(lambda s :1  if s =='Yes' else 0)\n",
    "data['OnlineBackup'] = data['OnlineBackup'].map(lambda s :1  if s =='Yes' else 0)\n",
    "data['DeviceProtection'] = data['DeviceProtection'].map(lambda s :1  if s =='Yes' else 0)\n",
    "data['TechSupport'] = data['TechSupport'].map(lambda s :1  if s =='Yes' else 0)\n",
    "data['StreamingTV'] = data['StreamingTV'].map(lambda s :1  if s =='Yes' else 0)\n",
    "data['StreamingMovies'] = data['StreamingMovies'].map(lambda s :1  if s =='Yes' else 0)\n",
    "data['MultipleLines'].replace('No phone service','No', inplace=True)\n",
    "data['MultipleLines'] = data['MultipleLines'].map(lambda s :1  if s =='Yes' else 0)\n",
    "data['Has_InternetService'] = data['InternetService'].map(lambda s :0  if s =='No' else 1)\n",
    "data['Fiber_optic'] = data['InternetService'].map(lambda s :1  if s =='Fiber optic' else 0)\n",
    "data['DSL'] = data['InternetService'].map(lambda s :1  if s =='DSL' else 0)\n",
    "#data = pd.get_dummies(data=data, columns=['PaymentMethod'])\n",
    "data['PaymentMethod']=data['PaymentMethod'].map(lambda s:3 if s=='Electronic check' else (2 if s=='Mailed check' else(1 if s=='Bank transfer (automatic)' else 0)))\n",
    "data['Contract'] = data['Contract'].map(lambda s :2  if s =='Two year' else (1 if s=='One year' else 0 ))\n",
    "#data = pd.get_dummies(data=data, columns=['Contract'])\n",
    "data.drop(['InternetService'], axis=1, inplace=True)\n",
    "\n",
    "data.head()"
   ]
  },
  {
   "cell_type": "code",
   "execution_count": 209,
   "metadata": {},
   "outputs": [
    {
     "data": {
      "text/plain": [
       "3    2365\n",
       "2    1604\n",
       "1    1542\n",
       "0    1521\n",
       "Name: PaymentMethod, dtype: int64"
      ]
     },
     "execution_count": 209,
     "metadata": {},
     "output_type": "execute_result"
    }
   ],
   "source": [
    "data['PaymentMethod'].value_counts()"
   ]
  },
  {
   "cell_type": "markdown",
   "metadata": {},
   "source": [
    "### Normalisasi Data "
   ]
  },
  {
   "cell_type": "code",
   "execution_count": 22,
   "metadata": {},
   "outputs": [],
   "source": [
    "data=(data-data.min())/(data.max()-data.min())"
   ]
  },
  {
   "cell_type": "code",
   "execution_count": 23,
   "metadata": {},
   "outputs": [
    {
     "data": {
      "text/plain": [
       "'\\nX_train=X[:(6*n_samples//7)]\\nX_test=X[(6*n_samples//7):]\\ny_train=y[:6*n_samples//7]\\ny_test=y[6*n_samples//7:]\\n\\n#X_train, X_test, y_train, y_test = train_test_split(X, y, test_size=1/7, train_size=6/7, random_state=42)\\n'"
      ]
     },
     "execution_count": 23,
     "metadata": {},
     "output_type": "execute_result"
    }
   ],
   "source": [
    "#Pemisahan data training dan data test\n",
    "from sklearn.model_selection import train_test_split\n",
    "data[\"Churn\"] = data[\"Churn\"].astype(int)\n",
    "y = data[\"Churn\"]\n",
    "X = data.drop(labels = [\"Churn\"],axis = 1)\n",
    "n_samples=len(y)\n",
    "\"\"\"\n",
    "X_train=X[:(6*n_samples//7)]\n",
    "X_test=X[(6*n_samples//7):]\n",
    "y_train=y[:6*n_samples//7]\n",
    "y_test=y[6*n_samples//7:]\n",
    "\n",
    "#X_train, X_test, y_train, y_test = train_test_split(X, y, test_size=1/7, train_size=6/7, random_state=42)\n",
    "\"\"\""
   ]
  },
  {
   "cell_type": "code",
   "execution_count": 24,
   "metadata": {},
   "outputs": [
    {
     "data": {
      "text/plain": [
       "(7032, 21)"
      ]
     },
     "execution_count": 24,
     "metadata": {},
     "output_type": "execute_result"
    }
   ],
   "source": [
    "X.shape"
   ]
  },
  {
   "cell_type": "markdown",
   "metadata": {},
   "source": [
    "## 4. Feature Selection "
   ]
  },
  {
   "cell_type": "markdown",
   "metadata": {},
   "source": [
    "### Pemilihan nilai K pada Feature Selection  K-best features menggunakan SVM"
   ]
  },
  {
   "cell_type": "code",
   "execution_count": 25,
   "metadata": {},
   "outputs": [
    {
     "data": {
      "image/png": "[encoded data removed]",
      "text/plain": [
       "<Figure size 432x288 with 1 Axes>"
      ]
     },
     "metadata": {
      "needs_background": "light"
     },
     "output_type": "display_data"
    }
   ],
   "source": [
    "from sklearn.feature_selection import SelectKBest\n",
    "from sklearn.feature_selection import chi2\n",
    "from sklearn import svm\n",
    "from sklearn.metrics import accuracy_score\n",
    "from matplotlib import pyplot as plt\n",
    "\n",
    "def svm_predict(a):\n",
    "    X = data.drop(labels = [\"Churn\"],axis = 1)\n",
    "    X = SelectKBest(chi2, k=a).fit_transform(X, y)\n",
    "    X_train, X_test, y_train, y_test = train_test_split(X, y, test_size=1/7, train_size=6/7, random_state=42)\n",
    "    clf = svm.LinearSVC()\n",
    "    clf.fit(X_train, y_train)\n",
    "    prediction = clf.predict(X_test)\n",
    "    accuracy = accuracy_score(y_test, prediction)\n",
    "    return accuracy\n",
    "K=[5,10,12,15,18,20]\n",
    "list_accuracy=[]\n",
    "for i in K:\n",
    "    list_accuracy.append(svm_predict(i))\n",
    "x_label=K\n",
    "y_label=list_accuracy\n",
    "plt.plot(x_label,y_label)\n",
    "plt.title('perbandingan akurasi')\n",
    "plt.xlabel('fitur')\n",
    "plt.ylabel('akurasi')\n",
    "plt.show()"
   ]
  },
  {
   "cell_type": "markdown",
   "metadata": {},
   "source": [
    "### Pemilihan Nilai K-best Features dengan Logistic Regression"
   ]
  },
  {
   "cell_type": "code",
   "execution_count": 26,
   "metadata": {},
   "outputs": [
    {
     "data": {
      "image/png": "[encoded data removed]",
      "text/plain": [
       "<Figure size 432x288 with 1 Axes>"
      ]
     },
     "metadata": {
      "needs_background": "light"
     },
     "output_type": "display_data"
    }
   ],
   "source": [
    "from sklearn.feature_selection import SelectKBest\n",
    "from sklearn.linear_model import LogisticRegression\n",
    "from sklearn.feature_selection import chi2\n",
    "from sklearn import svm\n",
    "from sklearn.metrics import accuracy_score\n",
    "from matplotlib import pyplot as plt\n",
    "\n",
    "def svm_predict(a):\n",
    "    X = data.drop(labels = [\"Churn\"],axis = 1)\n",
    "    X = SelectKBest(chi2, k=a).fit_transform(X, y)\n",
    "    X_train, X_test, y_train, y_test = train_test_split(X, y, test_size=1/7, train_size=6/7, random_state=42)\n",
    "    clf = LogisticRegression(random_state=0,C=1, solver='newton-cg',multi_class='ovr',max_iter=200)\n",
    "    clf.fit(X_train, y_train)\n",
    "    prediction = clf.predict(X_test)\n",
    "    accuracy = accuracy_score(y_test, prediction)\n",
    "    return accuracy\n",
    "K=[5,10,15,20]\n",
    "list_accuracy=[]\n",
    "for i in K:\n",
    "    list_accuracy.append(svm_predict(i))\n",
    "x_label=K\n",
    "y_label=list_accuracy\n",
    "plt.plot(x_label,y_label)\n",
    "plt.title('perbandingan akurasi')\n",
    "plt.xlabel('fitur')\n",
    "plt.ylabel('akurasi')\n",
    "plt.show()"
   ]
  },
  {
   "cell_type": "code",
   "execution_count": 42,
   "metadata": {},
   "outputs": [
    {
     "name": "stdout",
     "output_type": "stream",
     "text": [
      "          Feature_names  chi_scores\n",
      "7              Contract  555.879527\n",
      "13          Fiber_optic  372.082851\n",
      "3                tenure  238.007569\n",
      "4        OnlineSecurity  147.165601\n",
      "6           TechSupport  135.439602\n",
      "0         SeniorCitizen  133.482766\n",
      "2            Dependents  131.271509\n",
      "9         PaymentMethod  127.090985\n",
      "8      PaperlessBilling  104.979224\n",
      "1               Partner   81.857769\n",
      "12  Has_InternetService   78.723191\n",
      "11         TotalCharges   73.258486\n",
      "14                  DSL   71.137611\n",
      "10       MonthlyCharges   50.600233\n",
      "5          OnlineBackup   31.209832\n"
     ]
    }
   ],
   "source": [
    "selector = SelectKBest(chi2, k = 15)\n",
    "#New dataframe with the selected features for later use in the classifier. fit() method works too, if you want only the feature names and their corresponding scores\n",
    "X_new = selector.fit_transform(X, y)\n",
    "names = X.columns.values[selector.get_support()]\n",
    "scores = selector.scores_[selector.get_support()]\n",
    "names_scores = list(zip(names, scores))\n",
    "ns_df = pd.DataFrame(data = names_scores, columns=['Feature_names', 'chi_scores'])\n",
    "#Sort the dataframe for better visualization\n",
    "ns_df_sorted = ns_df.sort_values(['chi_scores', 'Feature_names'], ascending = [False, True])\n",
    "print(ns_df_sorted)"
   ]
  },
  {
   "cell_type": "code",
   "execution_count": 27,
   "metadata": {},
   "outputs": [],
   "source": [
    "from sklearn.feature_selection import SelectKBest\n",
    "from sklearn.feature_selection import chi2\n",
    "X = SelectKBest(chi2, k=15).fit_transform(X, y)\n",
    "X_train, X_test, y_train, y_test = train_test_split(X, y, test_size=1/7, train_size=6/7, random_state=42)"
   ]
  },
  {
   "cell_type": "markdown",
   "metadata": {},
   "source": [
    "## 5. Machine Learning Model"
   ]
  },
  {
   "cell_type": "markdown",
   "metadata": {},
   "source": [
    "Untuk jenis machine learning yang akan digunakan. Pilihan penulis adalah menggunakan SVM atau Logistic Regression."
   ]
  },
  {
   "cell_type": "markdown",
   "metadata": {},
   "source": [
    "### SVM"
   ]
  },
  {
   "cell_type": "raw",
   "metadata": {},
   "source": [
    "Penentuan Parameter SVM menggunakan Cross Validation"
   ]
  },
  {
   "cell_type": "code",
   "execution_count": 28,
   "metadata": {},
   "outputs": [
    {
     "name": "stdout",
     "output_type": "stream",
     "text": [
      "Best kernel: rbf\n",
      "Best C: 1\n",
      "Best gamma: 1\n",
      "Wall time: 21min 8s\n"
     ]
    }
   ],
   "source": [
    "%%time\n",
    "from sklearn import svm\n",
    "from sklearn.model_selection import GridSearchCV\n",
    "# Create regularization penalty space\n",
    "# Create regularization hyperparameter space\n",
    "C = [0.001, 0.01, 0.1, 1, 10]\n",
    "gamma = [0.001, 0.01, 0.1, 1]\n",
    "kernel=['linear','poly','rbf','sigmoid']\n",
    "\n",
    "# Create hyperparameter options\n",
    "hyperparameters = dict(C=C, gamma=gamma, kernel=kernel)\n",
    "clf = GridSearchCV(svm.SVC(), hyperparameters, cv=5, verbose=0)\n",
    "best_model = clf.fit(X_train, y_train)\n",
    "print('Best kernel:', best_model.best_estimator_.get_params()['kernel'])\n",
    "print('Best C:', best_model.best_estimator_.get_params()['C'])\n",
    "print('Best gamma:', best_model.best_estimator_.get_params()['gamma'])"
   ]
  },
  {
   "cell_type": "code",
   "execution_count": 28,
   "metadata": {},
   "outputs": [
    {
     "name": "stdout",
     "output_type": "stream",
     "text": [
      "Training Classifier...\n",
      "Predicting...\n",
      "Accuracy: 0.7820895522388059\n",
      "Wall time: 2.18 s\n"
     ]
    }
   ],
   "source": [
    "%%time\n",
    "from sklearn import svm\n",
    "from sklearn.metrics import accuracy_score\n",
    "#X_train, X_test, y_train, y_test = train_test_split(X, y, test_size=1/7, train_size=6/7, random_state=42,shuffle=True)\n",
    "clf = svm.SVC(C=1,gamma=1,kernel='rbf')\n",
    "print(\"Training Classifier...\")\n",
    "clf.fit(X_train, y_train)\n",
    "print(\"Predicting...\")\n",
    "prediction = clf.predict(X_test)\n",
    "accuracy = accuracy_score(y_test, prediction)\n",
    "print ('Accuracy:', accuracy)\n"
   ]
  },
  {
   "cell_type": "markdown",
   "metadata": {},
   "source": [
    "### Logistic Regression"
   ]
  },
  {
   "cell_type": "markdown",
   "metadata": {},
   "source": [
    "Pemilihan nilai parameter sistem Logistic Regression dengan cross validation"
   ]
  },
  {
   "cell_type": "code",
   "execution_count": 22,
   "metadata": {},
   "outputs": [
    {
     "name": "stdout",
     "output_type": "stream",
     "text": [
      "Best Solver: newton-cg\n",
      "Best C: 166.81005372000593\n"
     ]
    }
   ],
   "source": [
    "%%time\n",
    "from sklearn.linear_model import LogisticRegression\n",
    "from sklearn.model_selection import GridSearchCV\n",
    "# Create regularization penalty space\n",
    "penalty = ['l1', 'l2']\n",
    "\n",
    "# Create regularization hyperparameter space\n",
    "C = np.logspace(0, 4, 10)\n",
    "solver=['newton-cg','lbfgs','liblinear','sag','saga']\n",
    "\n",
    "logistic = LogisticRegression()\n",
    "# Create hyperparameter options\n",
    "hyperparameters = dict(C=C, solver=solver)\n",
    "clf = GridSearchCV(logistic, hyperparameters, cv=5, verbose=0)\n",
    "best_model = clf.fit(X_train, y_train)\n",
    "print('Best Solver:', best_model.best_estimator_.get_params()['solver'])\n",
    "print('Best C:', best_model.best_estimator_.get_params()['C'])"
   ]
  },
  {
   "cell_type": "code",
   "execution_count": 29,
   "metadata": {},
   "outputs": [
    {
     "name": "stdout",
     "output_type": "stream",
     "text": [
      "Training Classifier....\n",
      "predicting ......\n",
      "accuracy:  0.7940298507462686\n",
      "Wall time: 96 ms\n"
     ]
    }
   ],
   "source": [
    "%%time\n",
    "from sklearn.linear_model import LogisticRegression\n",
    "\n",
    "clf2 = LogisticRegression(C=166.8,penalty='l2',random_state=0, solver='newton-cg',multi_class='ovr',max_iter=200)\n",
    "print('Training Classifier....')\n",
    "clf2.fit(X_train,y_train)\n",
    "print(\"predicting ......\")\n",
    "prediction2=clf2.predict(X_test)\n",
    "accuracy2=accuracy_score(y_test,prediction2)\n",
    "print('accuracy: ', accuracy2)"
   ]
  },
  {
   "cell_type": "markdown",
   "metadata": {},
   "source": [
    "## 6. Performa Sistem "
   ]
  },
  {
   "cell_type": "markdown",
   "metadata": {},
   "source": [
    "Performa Sistem diukur menggunakan confusion matrix"
   ]
  },
  {
   "cell_type": "code",
   "execution_count": 30,
   "metadata": {},
   "outputs": [
    {
     "name": "stdout",
     "output_type": "stream",
     "text": [
      "Classification report for classifier SVC(C=1, cache_size=200, class_weight=None, coef0=0.0,\n",
      "  decision_function_shape='ovr', degree=3, gamma=1, kernel='rbf',\n",
      "  max_iter=-1, probability=False, random_state=None, shrinking=True,\n",
      "  tol=0.001, verbose=False):\n",
      "             precision    recall  f1-score   support\n",
      "\n",
      "          0       0.83      0.88      0.86       737\n",
      "          1       0.61      0.50      0.55       268\n",
      "\n",
      "avg / total       0.77      0.78      0.77      1005\n",
      "\n",
      "\n",
      "Confusion matrix:\n",
      "[[652  85]\n",
      " [134 134]]\n",
      "Accuracy: 0.7821\n",
      "Classification report for classifier LogisticRegression(C=166.8, class_weight=None, dual=False, fit_intercept=True,\n",
      "          intercept_scaling=1, max_iter=200, multi_class='ovr', n_jobs=1,\n",
      "          penalty='l2', random_state=0, solver='newton-cg', tol=0.0001,\n",
      "          verbose=0, warm_start=False):\n",
      "             precision    recall  f1-score   support\n",
      "\n",
      "          0       0.84      0.89      0.86       737\n",
      "          1       0.64      0.53      0.58       268\n",
      "\n",
      "avg / total       0.79      0.79      0.79      1005\n",
      "\n",
      "\n",
      "Confusion matrix:\n",
      "[[655  82]\n",
      " [125 143]]\n",
      "Accuracy: 0.7940\n"
     ]
    }
   ],
   "source": [
    "from sklearn import datasets,metrics\n",
    "predictions = clf.predict(X_test)\n",
    "print(\"Classification report for classifier %s:\\n%s\\n\"\n",
    "      % (clf, metrics.classification_report(y_test, predictions)))\n",
    "print(\"Confusion matrix:\\n%s\" %metrics.confusion_matrix(y_test,predictions))\n",
    "print(\"Accuracy: %0.4f\" % metrics.accuracy_score(y_test,predictions))\n",
    "\n",
    "predictions = clf2.predict(X_test)\n",
    "print(\"Classification report for classifier %s:\\n%s\\n\"\n",
    "      % (clf2, metrics.classification_report(y_test, predictions)))\n",
    "print(\"Confusion matrix:\\n%s\" %metrics.confusion_matrix(y_test,predictions))\n",
    "print(\"Accuracy: %0.4f\" % metrics.accuracy_score(y_test,predictions))\n"
   ]
  },
  {
   "cell_type": "markdown",
   "metadata": {},
   "source": [
    "### Menampilkan hasil prediksi sistem"
   ]
  },
  {
   "cell_type": "code",
   "execution_count": 31,
   "metadata": {},
   "outputs": [
    {
     "name": "stdout",
     "output_type": "stream",
     "text": [
      "prediksi dari sistem  [0 0 1 0 0 0 0 1 0 0]\n",
      "2481    0\n",
      "6784    0\n",
      "6125    1\n",
      "3052    0\n",
      "4099    0\n",
      "3223    0\n",
      "3774    0\n",
      "3469    0\n",
      "3420    0\n",
      "1196    0\n",
      "Name: Churn, dtype: int32\n"
     ]
    }
   ],
   "source": [
    "\n",
    "hasil_prediksi=clf2.predict(X_test[:10])\n",
    "hasil_sebenarnya=y_test[:10]\n",
    "\n",
    "print(\"prediksi dari sistem \", hasil_prediksi)\n",
    "print(hasil_sebenarnya)\n"
   ]
  },
  {
   "cell_type": "code",
   "execution_count": null,
   "metadata": {},
   "outputs": [],
   "source": []
  }
 ],
 "metadata": {
  "kernelspec": {
   "display_name": "Python 3",
   "language": "python",
   "name": "python3"
  },
  "language_info": {
   "codemirror_mode": {
    "name": "ipython",
    "version": 3
   },
   "file_extension": ".py",
   "mimetype": "text/x-python",
   "name": "python",
   "nbconvert_exporter": "python",
   "pygments_lexer": "ipython3",
   "version": "3.6.6"
  }
 },
 "nbformat": 4,
 "nbformat_minor": 2
}
